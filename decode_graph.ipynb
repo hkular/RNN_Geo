{
 "cells": [
  {
   "cell_type": "markdown",
   "id": "add47d3f-4600-416b-8a79-74309271b5fd",
   "metadata": {},
   "source": [
    "Name: Holly Kular\\\n",
    "Date: 05-01-2024\\\n",
    "Email: hkular@ucsd.edu\\\n",
    "decode_graph.ipynb\\\n",
    "Description: making graphs"
   ]
  },
  {
   "cell_type": "code",
   "execution_count": 1,
   "id": "033bdbae-1f3d-4b19-8c5c-303cdb12357b",
   "metadata": {},
   "outputs": [],
   "source": [
    "import numpy as np\n",
    "import matplotlib.pyplot as plt\n",
    "import sys\n",
    "import os"
   ]
  },
  {
   "cell_type": "code",
   "execution_count": 69,
   "id": "029b3e47-960c-4bc8-b01f-80bb875b8652",
   "metadata": {},
   "outputs": [],
   "source": [
    "# graphs\n",
    "\n",
    "# what do I want to look at?\n",
    "# ==========================================================================================================\n",
    "RNN_params1 = {}\n",
    "RNN_params1['prob_split'] = '70_30'\n",
    "RNN_params1['afc'] = 2\n",
    "RNN_params1['coh'] = 'hi'\n",
    "RNN_params1['feedback'] = False\n",
    "RNN_params1['thresh'] = [.3,.7]\n",
    "\n",
    "# Decoding params\n",
    "D_params1 = {}\n",
    "D_params1['time_avg'] = False\n",
    "D_params1['t_win'] = [200,-1]\n",
    "D_params1['label'] = 'choice' # 'stim' or 'choice'\n",
    "D_params1['units'] = 'exc' # 'all' or 'exc' or 'inh'\n",
    "D_params1['pred'] = 'expected' # 'expected' or 'unexpected', trials had stim 0 or 1 dominant\n",
    "\n",
    "\n",
    "RNN_params2 = {}\n",
    "RNN_params2['prob_split'] = '70_30'\n",
    "RNN_params2['afc'] = 2\n",
    "RNN_params2['coh'] = 'hi'\n",
    "RNN_params2['feedback'] = False\n",
    "RNN_params2['thresh'] = [.3,.7]\n",
    "\n",
    "# Decoding params\n",
    "D_params2 = {}\n",
    "D_params2['time_avg'] = False\n",
    "D_params2['t_win'] = [200,-1]\n",
    "D_params2['label'] = 'choice' # 'stim' or 'choice'\n",
    "D_params2['units'] = 'inh' # 'all' or 'exc' or 'inh'\n",
    "D_params2['pred'] = 'expected' # 'expected' or 'unexpected', trials had stim 0 or 1 dominant\n",
    "\n",
    "# Timing of task\n",
    "task_info = {}\n",
    "task_info['trials'] = 200\n",
    "task_info['trial_dur'] = 250  # trial duration (timesteps)\n",
    "task_info['stim_on'] = 80\n",
    "task_info['stim_dur'] = 50\n",
    "\n",
    "# ==========================================================================================================\n",
    "\n",
    "# Load data\n",
    "if sys.platform.startswith('linux'):\n",
    "    data_dir1 = f\"/mnt/neurocube/local/serenceslab/holly/RNN_Geo/data/rdk_{RNN_params1['prob_split']}_{RNN_params1['afc']}afc/feedforward_only/{RNN_params1['coh']}_coh\"\n",
    "else:\n",
    "    data_dir1 = f\"/Volumes/serenceslab/holly/RNN_Geo/data/rdk_{RNN_params1['prob_split']}_{RNN_params1['afc']}afc/feedforward_only/{RNN_params1['coh']}_coh\"\n",
    "\n",
    "# Change this if we want a different number of trials and different default stim (0 is the one RNN was trained on)\n",
    "if D_params1['pred'] == 'expected':\n",
    "    data_file = f\"{data_dir1}/Trials{task_info['trials']}_0expected.npz\"\n",
    "elif D_params1['pred'] == 'unexpected':\n",
    "    data_file = f\"{data_dir1}/Trials{task_info['trials']}_1expected.npz\"\n",
    "    \n",
    "if sys.platform.startswith('linux'):\n",
    "    data_dir2 = f\"/mnt/neurocube/local/serenceslab/holly/RNN_Geo/data/rdk_{RNN_params2['prob_split']}_{RNN_params2['afc']}afc/feedforward_only/{RNN_params2['coh']}_coh\"\n",
    "else:\n",
    "    data_dir2 = f\"/Volumes/serenceslab/holly/RNN_Geo/data/rdk_{RNN_params2['prob_split']}_{RNN_params2['afc']}afc/feedforward_only/{RNN_params2['coh']}_coh\"\n",
    "\n",
    "# Change this if we want a different number of trials and different default stim (0 is the one RNN was trained on)\n",
    "if D_params2['pred'] == 'expected':\n",
    "    data_file = f\"{data_dir2}/Trials{task_info['trials']}_0expected.npz\"\n",
    "elif D_params2['pred'] == 'unexpected':\n",
    "    data_file = f\"{data_dir2}/Trials{task_info['trials']}_1expected.npz\"\n",
    "\n",
    "# =================\n",
    "# load npzs\n",
    "full_file1 = os.path.join(data_dir1, f\"decode_T{task_info['trials']}_{D_params1['label']}_{D_params1['pred']}.npz\")\n",
    "full_file2 = os.path.join(data_dir2, f\"decode_T{task_info['trials']}_{D_params2['label']}_{D_params2['pred']}.npz\")\n",
    "\n",
    "acc1 = np.load(full_file1)\n",
    "acc2 = np.load(full_file2)\n"
   ]
  },
  {
   "cell_type": "code",
   "execution_count": 70,
   "id": "31126fb0-a836-4b27-9392-99070449e56f",
   "metadata": {},
   "outputs": [
    {
     "data": {
      "image/png": "[encoded data removed]",
      "text/plain": [
       "<Figure size 432x288 with 1 Axes>"
      ]
     },
     "metadata": {
      "needs_background": "light"
     },
     "output_type": "display_data"
    }
   ],
   "source": [
    "save_plt = False\n",
    "# display on one graph\n",
    "plt.figure()\n",
    "\n",
    "plt.plot(range(task_info['trial_dur']), acc1['decoding_acc'], label='exc', color='blue')\n",
    "plt.plot(range(task_info['trial_dur']), acc2['decoding_acc'], label='inh', color='red')\n",
    "\n",
    "plt.xlabel('Time Step')\n",
    "plt.ylabel('Decoding Accuracy')\n",
    "plt.title('Decoding Accuracy Over Time')\n",
    "plt.legend()  # Add legend to identify lines\n",
    "\n",
    "plt.axvspan(task_info['stim_on'], task_info['stim_on']+task_info['stim_dur'], color = 'gray', alpha = 0.3)\n",
    "\n",
    "if save_plt:\n",
    "  plt.savefig(f\"{data_dir1}/decode_T{task_info['trials']}_{D_params['label']}_{D_params['pred']}.png\")\n",
    "\n",
    "plt.show()"
   ]
  },
  {
   "cell_type": "code",
   "execution_count": null,
   "id": "9abe7406-d9d3-49ab-be4f-88f87b39cc8a",
   "metadata": {},
   "outputs": [],
   "source": []
  }
 ],
 "metadata": {
  "kernelspec": {
   "display_name": "Python 3",
   "language": "python",
   "name": "python3"
  },
  "language_info": {
   "codemirror_mode": {
    "name": "ipython",
    "version": 3
   },
   "file_extension": ".py",
   "mimetype": "text/x-python",
   "name": "python",
   "nbconvert_exporter": "python",
   "pygments_lexer": "ipython3",
   "version": "3.8.8"
  }
 },
 "nbformat": 4,
 "nbformat_minor": 5
}
