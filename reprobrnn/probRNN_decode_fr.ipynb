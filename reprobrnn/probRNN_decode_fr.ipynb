{
 "cells": [
  {
   "cell_type": "code",
   "execution_count": null,
   "id": "97cf4036",
   "metadata": {
    "tags": []
   },
   "outputs": [],
   "source": [
    "import numpy as np\n",
    "import matplotlib.pyplot as plt\n",
    "from sklearn.model_selection import cross_val_score\n",
    "from sklearn.model_selection import RepeatedStratifiedKFold\n",
    "from sklearn.svm import SVC  \n",
    "from sklearn.model_selection import GridSearchCV\n",
    "from sklearn.datasets import make_classification  \n",
    "from matplotlib import cm\n",
    "from os.path import exists\n",
    "import mat73\n"
   ]
  },
  {
   "cell_type": "markdown",
   "id": "99b4ac67",
   "metadata": {},
   "source": [
    "## Grid search linear SVC\n",
    "* Search over penalties to do binary classification on whether stim was likely or unlikely"
   ]
  },
  {
   "cell_type": "code",
   "execution_count": null,
   "id": "aa241de5",
   "metadata": {
    "tags": []
   },
   "outputs": [],
   "source": [
    "# basic info about model \n",
    "prob_split = '70_30'\n",
    "afc = 2\n",
    "coh = 'hi'\n",
    "\n",
    "# which layer do we want? \n",
    "layer = 1\n",
    "\n",
    "# averge fr over this time window post stimuluat\n",
    "# this is unit of model time-steps\n",
    "t_win = [ 200,-1 ]\n",
    "\n",
    "# number of cv folds\n",
    "n_cvs = 5 # performance goes up with fewer cvs? looked at 3\n",
    "\n",
    "# store the accuracy\n",
    "acc = np.full( ( n_cvs ), np.nan )\n",
    "\n",
    "# penalties to eval\n",
    "num_cgs = 30\n",
    "Cs = np.logspace( -5,1,num_cgs )\n",
    "\n",
    "# set up the grid\n",
    "param_grid = { 'C': Cs, 'kernel': ['linear'] }\n",
    "\n",
    "# define object - use a SVC that balances class weights (because they are biased, e.g. 70/30)\n",
    "# note that can also specify cv folds here, but I'm doing it by hand below in a loop\n",
    "grid = GridSearchCV( SVC(class_weight = 'balanced'),param_grid,refit=True,verbose=0 )\n",
    "\n",
    "# load the data, e.g. 'out_70_30_2AFC_hi_coh.mat'\n",
    "f_data = f'out_{prob_split}_{afc}AFC_{coh}_coh.mat'\n",
    "\n",
    "# get the data from the layer that we want\n",
    "# this is a [trial x time step x unit] matrix\n",
    "data = mat73.loadmat(f_data)[f'fr{layer}']\n",
    "\n",
    "# load the labels (one for each trial)\n",
    "labs = mat73.loadmat(f_data)['labs']"
   ]
  },
  {
   "cell_type": "code",
   "execution_count": 92,
   "id": "e5bc67e9-7e7e-4eee-9da9-1e29f32dd926",
   "metadata": {},
   "outputs": [
    {
     "name": "stdout",
     "output_type": "stream",
     "text": [
      "CV: 0, SVC(C=0.0030391953823131978, class_weight='balanced', kernel='linear')\n",
      "CV: 1, SVC(C=0.004893900918477494, class_weight='balanced', kernel='linear')\n",
      "CV: 2, SVC(C=0.0030391953823131978, class_weight='balanced', kernel='linear')\n",
      "0.9494949494949495\n"
     ]
    }
   ],
   "source": [
    "# avg over time window\n",
    "data = np.mean( data[ :,t_win[0]:t_win[1],: ], axis = 1 )\n",
    "\n",
    "# get some info about structure of the data\n",
    "tris = data.shape[0]             # number of trials\n",
    "tri_ind = np.arange(0,tris)      # list from 0...tris\n",
    "hold_out = int( tris / n_cvs )   # how many trials to hold out\n",
    "\n",
    "# loop over cvs and do classification\n",
    "for i in range(n_cvs):\n",
    "\n",
    "    # trials to hold out as test set on this cv fold\n",
    "    tst_ind = tri_ind[ i*hold_out : (i+1)*hold_out ]\n",
    "    \n",
    "    # index into the training data on this cv fold\n",
    "    trn_ind = np.setdiff1d( tri_ind, tst_ind )\n",
    "\n",
    "    # get the training data (X) and the training labels (y)\n",
    "    # note that y is unbalanced unless prob is 50/50\n",
    "    # todo: verify that SVC(class_weight = 'balanced')\n",
    "    # is working as desired!\n",
    "    # HK done: follows formula of n/ki\n",
    "    X = data[trn_ind,:]\n",
    "    y = labs[trn_ind]\n",
    "\n",
    "    # fit the model\n",
    "    grid.fit( X,y )\n",
    "\n",
    "    # progress report\n",
    "    print(f'CV: {i}, {grid.best_estimator_}')\n",
    "\n",
    "    # get the test data (X) and the test labels (y)\n",
    "    X_test = data[tst_ind, :]\n",
    "    y_test = labs[tst_ind]\n",
    "\n",
    "    # predict!\n",
    "    acc[ i ] = grid.score( X_test,y_test )\n",
    "        \n",
    "\n",
    "print( np.mean( acc ) )\n"
   ]
  },
  {
   "cell_type": "code",
   "execution_count": 86,
   "id": "c57e2f29-d6ba-4877-9e87-485fa214703e",
   "metadata": {},
   "outputs": [
    {
     "data": {
      "text/plain": [
       "array([0.70175439, 1.73913043])"
      ]
     },
     "execution_count": 86,
     "metadata": {},
     "output_type": "execute_result"
    }
   ],
   "source": [
    "# check class weights from SVC class_weight = balanced\n",
    "best_svc = grid.best_estimator_\n",
    "class_weights = best_svc.class_weight_\n",
    "class_weights"
   ]
  },
  {
   "cell_type": "code",
   "execution_count": 87,
   "id": "2a0e0e0a-b59e-4f29-b36e-13e4f4f1ac64",
   "metadata": {},
   "outputs": [],
   "source": [
    "# try it with manual class weights\n",
    "# n/kni\n",
    "lab1 = 100/(70*2)\n",
    "lab2 = 100/(30*2)\n",
    "custom_cw = {1: lab1, 2: lab2}\n",
    "grid = GridSearchCV( SVC(class_weight = custom_cw),param_grid,refit=True,verbose=0 )"
   ]
  },
  {
   "cell_type": "code",
   "execution_count": 88,
   "id": "34b9488f-959f-42b4-92f9-f556f63598af",
   "metadata": {},
   "outputs": [],
   "source": [
    "# get some info about structure of the data\n",
    "tris = data.shape[0]             # number of trials\n",
    "tri_ind = np.arange(0,tris)      # list from 0...tris\n",
    "hold_out = int( tris / n_cvs )   # how many trials to hold out"
   ]
  },
  {
   "cell_type": "code",
   "execution_count": 89,
   "id": "e4dddf59-4794-4818-b7bc-ba7159a7a6cf",
   "metadata": {},
   "outputs": [
    {
     "name": "stdout",
     "output_type": "stream",
     "text": [
      "CV: 0, SVC(C=0.0030391953823131978,\n",
      "    class_weight={1: 0.7142857142857143, 2: 1.6666666666666667},\n",
      "    kernel='linear')\n",
      "CV: 1, SVC(C=0.004893900918477494,\n",
      "    class_weight={1: 0.7142857142857143, 2: 1.6666666666666667},\n",
      "    kernel='linear')\n",
      "CV: 2, SVC(C=0.0030391953823131978,\n",
      "    class_weight={1: 0.7142857142857143, 2: 1.6666666666666667},\n",
      "    kernel='linear')\n",
      "CV: 3, SVC(C=6.2101694189156165,\n",
      "    class_weight={1: 0.7142857142857143, 2: 1.6666666666666667},\n",
      "    kernel='linear')\n",
      "CV: 4, SVC(C=0.004893900918477494,\n",
      "    class_weight={1: 0.7142857142857143, 2: 1.6666666666666667},\n",
      "    kernel='linear')\n",
      "0.9400000000000001\n"
     ]
    }
   ],
   "source": [
    "for i in range(n_cvs):\n",
    "\n",
    "    # trials to hold out as test set on this cv fold\n",
    "    tst_ind = tri_ind[ i*hold_out : (i+1)*hold_out ]\n",
    "    \n",
    "    # index into the training data on this cv fold\n",
    "    trn_ind = np.setdiff1d( tri_ind, tst_ind )\n",
    "\n",
    "    # get the training data (X) and the training labels (y)\n",
    "    # note that y is unbalanced unless prob is 50/50\n",
    "    # todo: verify that SVC(class_weight = 'balanced')\n",
    "    # is working as desired!\n",
    "    X = data[trn_ind,:]\n",
    "    y = labs[trn_ind]\n",
    "\n",
    "    # fit the model\n",
    "    grid.fit( X,y )\n",
    "\n",
    "    # progress report\n",
    "    print(f'CV: {i}, {grid.best_estimator_}')\n",
    "\n",
    "    # get the test data (X) and the test labels (y)\n",
    "    X_test = data[tst_ind, :]\n",
    "    y_test = labs[tst_ind]\n",
    "\n",
    "    # predict!\n",
    "    acc[ i ] = grid.score( X_test,y_test )\n",
    "        \n",
    "\n",
    "print( np.mean( acc ) )"
   ]
  }
 ],
 "metadata": {
  "kernelspec": {
   "display_name": "Python 3 (ipykernel)",
   "language": "python",
   "name": "python3"
  },
  "language_info": {
   "codemirror_mode": {
    "name": "ipython",
    "version": 3
   },
   "file_extension": ".py",
   "mimetype": "text/x-python",
   "name": "python",
   "nbconvert_exporter": "python",
   "pygments_lexer": "ipython3",
   "version": "3.11.7"
  }
 },
 "nbformat": 4,
 "nbformat_minor": 5
}
