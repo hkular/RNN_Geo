{
 "cells": [
  {
   "cell_type": "markdown",
   "id": "6bc28a3f-089f-48e1-82e9-3a6de5d1f69d",
   "metadata": {},
   "source": [
    "Name: Holly Kular\\\n",
    "Date: 03-19-2024\\\n",
    "Email: hkular@ucsd.edu\\\n",
    "decode_L1.m\\\n",
    "Description: wrapper script for decoding analysis on layer 1 of probabilistic RNN\\\n",
    "5-1-2024 update: loop over conditions"
   ]
  },
  {
   "cell_type": "code",
   "execution_count": 8,
   "id": "51c4374b-8268-4b40-b446-e2765b61a9a8",
   "metadata": {},
   "outputs": [],
   "source": [
    "# import these are all needed for fnc\n",
    "import numpy as np\n",
    "import matplotlib.pyplot as plt\n",
    "import sys\n",
    "import os\n",
    "from scipy.optimize import curve_fit\n",
    "from scipy.io import loadmat"
   ]
  },
  {
   "cell_type": "code",
   "execution_count": 9,
   "id": "d677ff57-73b5-49e2-897c-759d71f33b3a",
   "metadata": {},
   "outputs": [],
   "source": [
    "# add decoding functions\n",
    "from fnc_fit_and_score import fnc_fit_and_score\n",
    "from fnc_decode_L1 import fnc_decode_L1\n"
   ]
  },
  {
   "cell_type": "code",
   "execution_count": 10,
   "id": "2a73c1ae-ff2f-432d-9c61-f841988aa888",
   "metadata": {},
   "outputs": [],
   "source": [
    "# create condition table\n",
    "cohs = ['hi', 'lo']\n",
    "afcs = [2, 6]"
   ]
  },
  {
   "cell_type": "code",
   "execution_count": null,
   "id": "47bee1e2-458b-4db8-8ccb-de76f755be5b",
   "metadata": {},
   "outputs": [
    {
     "name": "stdout",
     "output_type": "stream",
     "text": [
      "done decoding afc:2 coh:hi\n",
      "saved /Volumes/serenceslab/holly/RNN_Geo/data/rdk_70_30_2afc/feedforward_only/hi_coh/decode_T1000_model628_stim_expected_all.npz\n",
      "done decoding afc:6 coh:hi\n",
      "saved /Volumes/serenceslab/holly/RNN_Geo/data/rdk_70_30_6afc/feedforward_only/hi_coh/decode_T1000_model536_stim_expected_all.npz\n",
      "done decoding afc:2 coh:lo\n",
      "saved /Volumes/serenceslab/holly/RNN_Geo/data/rdk_70_30_2afc/feedforward_only/lo_coh/decode_T1000_model325_stim_expected_all.npz\n"
     ]
    }
   ],
   "source": [
    "for c in cohs:\n",
    "    for a in afcs:\n",
    "        RNN_params = {}\n",
    "        RNN_params['prob_split'] = '70_30'\n",
    "        RNN_params['afc'] = a\n",
    "        RNN_params['coh'] = c\n",
    "        RNN_params['feedback'] = False\n",
    "        RNN_params['thresh'] = [.3,.7]   \n",
    "        D_params = {}\n",
    "        D_params['time_avg'] = False\n",
    "        D_params['t_win'] = [200,-1]\n",
    "        D_params['n_cvs'] = 5\n",
    "        D_params['num_cgs'] = 30\n",
    "        D_params['label'] = 'stim' # 'stim' or 'choice'\n",
    "        D_params['units'] = 'all' # 'all' or 'exc' or 'inh'\n",
    "        D_params['pred'] = 'expected' # 'expected' or 'unexpected', trials had stim 0 or 1 dominant\n",
    "        # Timing of task\n",
    "        task_info = {}\n",
    "        task_info['trials'] = 1000\n",
    "        task_info['trial_dur'] = 250  # trial duration (timesteps)\n",
    "        task_info['stim_on'] = 80\n",
    "        task_info['stim_dur'] = 50\n",
    "\n",
    "        # Load data\n",
    "        if sys.platform.startswith('linux'):\n",
    "            data_dir = f\"/mnt/neurocube/local/serenceslab/holly/RNN_Geo/data/rdk_{RNN_params['prob_split']}_{RNN_params['afc']}afc/feedforward_only/{RNN_params['coh']}_coh\"\n",
    "        else:\n",
    "            data_dir = f\"/Volumes/serenceslab/holly/RNN_Geo/data/rdk_{RNN_params['prob_split']}_{RNN_params['afc']}afc/feedforward_only/{RNN_params['coh']}_coh\"\n",
    "\n",
    "        # Chose the model\n",
    "        mat_files = [f for f in os.listdir(data_dir) if f.endswith('.mat')]# Get all the trained models (should be 40 .mat files)\n",
    "        model_path = os.path.join(data_dir, mat_files[1]) \n",
    "        model = loadmat(model_path) # model.keys()\n",
    "        \n",
    "        # Change this if we want a different number of trials and different default stim (0 is the one RNN was trained on)\n",
    "        if D_params['pred'] == 'expected':\n",
    "            data_file = f\"{data_dir}/Trials{task_info['trials']}_model{model_path[-7:-4]}_0expected.npz\"\n",
    "        elif D_params['pred'] == 'unexpected':\n",
    "            data_file = f\"{data_dir}/Trials{task_info['trials']}_model{model_path[-7:-4]}_1expected.npz\"\n",
    "        \n",
    "        # Do decoding\n",
    "        acc = fnc_decode_L1(RNN_params, D_params, data_file, task_info, model)\n",
    "        print(f\"done decoding afc:{RNN_params['afc']} coh:{RNN_params['coh']}\")\n",
    "        \n",
    "        # Save to npz\n",
    "        full_file = os.path.join(data_dir, f\"decode_T{task_info['trials']}_model{model_path[-7:-4]}_{D_params['label']}_{D_params['pred']}_{D_params['units']}.npz\")\n",
    "        np.savez(full_file, decoding_acc = acc)\n",
    "        print(f\"saved {full_file}\")"
   ]
  },
  {
   "cell_type": "code",
   "execution_count": null,
   "id": "5856499d-4ba9-4056-ac3f-6363d2740189",
   "metadata": {},
   "outputs": [],
   "source": [
    "# Make plots based on outputs\n",
    "\n",
    "# Plot decoding accuracy over time\n",
    "plt.figure()\n",
    "plt.plot(range(task_info['trial_dur']), acc)\n",
    "plt.xlabel('Time Step')\n",
    "plt.ylabel('Decoding Accuracy')\n",
    "plt.title('Decoding Accuracy Over Time')\n",
    "plt.axvspan(task_info['stim_on'], task_info['stim_on']+task_info['stim_dur'], color = 'gray', alpha = 0.3)\n",
    "if save_plt:\n",
    "    plt.savefig(f\"{data_dir}/decode_T{task_info['trials']}_{D_params['label']}_{D_params['pred']}.png\")\n",
    "plt.show()  \n",
    "\n",
    "\n",
    "# fit logistic function\n",
    "def logistic_func(x, a, b, c, d):\n",
    "    return a / (1 + np.exp(-c * (x - d))) + b\n",
    "\n",
    "popt, _ = curve_fit(logistic_func, range(0, task_info['trial_dur']), acc[0:])\n",
    "\n",
    "# 'popt' will contain the fitted parameters (a, b, c) of the log function\n",
    "\n",
    "# Optional: Estimate the y-value of the asymptote (assuming based on parameter b)\n",
    "asymptote_y = popt[1]\n",
    "print(\"Estimated y-value of the asymptote:\", asymptote_y)\n",
    "\n",
    "# Optional: Visualization\n",
    "plt.plot(range(0, task_info['trial_dur']), acc[0:], label='Data')\n",
    "plt.plot(range(0, task_info['trial_dur']), logistic_func(range(0, task_info['trial_dur']), *popt), label=f'y asymptote of logistic {round(asymptote_y, 3)}')\n",
    "plt.axvspan(task_info['stim_on'], task_info['stim_on']+task_info['stim_dur'], color = 'gray', alpha = 0.3)\n",
    "plt.xlabel('Time Step')\n",
    "plt.ylabel('Decoding Accuracy')\n",
    "plt.title('Decoding Accuracy Over Time (Logistic Fit)')\n",
    "plt.legend()\n",
    "if save_plt:\n",
    "    plt.savefig(f\"{data_dir}/decode_T{task_info['trials']}_{D_params['label']}_{D_params['pred']}fit.png\")\n",
    "plt.show()\n"
   ]
  }
 ],
 "metadata": {
  "kernelspec": {
   "display_name": "Python 3",
   "language": "python",
   "name": "python3"
  },
  "language_info": {
   "codemirror_mode": {
    "name": "ipython",
    "version": 3
   },
   "file_extension": ".py",
   "mimetype": "text/x-python",
   "name": "python",
   "nbconvert_exporter": "python",
   "pygments_lexer": "ipython3",
   "version": "3.8.8"
  }
 },
 "nbformat": 4,
 "nbformat_minor": 5
}
