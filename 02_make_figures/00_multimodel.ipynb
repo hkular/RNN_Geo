{
 "cells": [
  {
   "cell_type": "markdown",
   "id": "9dfc68f3-d2c6-4702-9f4d-14d2a64b5998",
   "metadata": {},
   "source": [
    "Name: Holly Kular\\\n",
    "Date: 08-14-2024\\\n",
    "Email: hkular@ucsd.edu\\\n",
    "Description: plot results of decoding accuracy over time "
   ]
  },
  {
   "cell_type": "code",
   "execution_count": 1,
   "id": "1690260e-7d57-4083-9c56-885cc081bc09",
   "metadata": {},
   "outputs": [],
   "source": [
    "# imports\n",
    "import numpy as np\n",
    "import sys\n",
    "import os\n",
    "import matplotlib.pyplot as plt\n",
    "from scipy.stats import sem, t, ttest_ind, pearsonr\n",
    "import itertools\n",
    "import pandas as pd\n",
    "from scipy.io import loadmat"
   ]
  },
  {
   "cell_type": "code",
   "execution_count": 19,
   "id": "5c3c1346-302e-4d1f-9680-d82fa95d7cd1",
   "metadata": {},
   "outputs": [],
   "source": [
    "# load all conds for a single model\n",
    "\n",
    "RNN_params = {\n",
    "    'afc': [6, 2],\n",
    "    'coh': ['hi', 'lo'],\n",
    "}\n",
    "\n",
    "# pick a layer\n",
    "fr = 1\n",
    "afc = 6\n",
    "coh = 'hi'\n",
    "models = [0, 1, 2]\n",
    "acc = {}\n",
    "\n",
    "for modelnum in models:\n",
    "\n",
    "    # load and graph\n",
    "    #full_file = f'/mnt/neurocube/local/serenceslab/holly/RNN_Geo/data/decoding/neutral/fr{fr}/{coh}_{afc}afc/boot_balanced_all{modelnum}.npz'\n",
    "    full_file = f'/Volumes/serenceslab/holly/RNN_Geo/data/decoding/expected/fr{fr}/{coh}_{afc}afc/boot_all{modelnum}_choice.npz'\n",
    "    acc = np.load(full_file)\n",
    "    \n",
    "    for var in acc:\n",
    "        # Create a new variable name by combining var with coh and afc\n",
    "        new_var_name = f\"{coh}_{afc}afc_mod{modelnum}\"\n",
    "        globals()[new_var_name] = acc[var]\n",
    "        "
   ]
  },
  {
   "cell_type": "code",
   "execution_count": 9,
   "id": "6b7c509b-6e9b-4662-bbab-3a385ff6883a",
   "metadata": {},
   "outputs": [
    {
     "name": "stdout",
     "output_type": "stream",
     "text": [
      "Variable              Type        Data/Info\n",
      "-------------------------------------------\n",
      "RNN_params            dict        n=2\n",
      "acc                   NpzFile     <numpy.lib.npyio.NpzFile <...>object at 0x7fef60e077f0>\n",
      "afc                   int         6\n",
      "alpha                 float       0.05\n",
      "coh                   str         hi\n",
      "colors                list        n=6\n",
      "cond                  ndarray     1000x71x2: 142000 elems, type `float64`, 1136000 bytes (1.0833740234375 Mb)\n",
      "confidence            float       0.95\n",
      "data                  ndarray     71x2: 142 elems, type `float64`, 1136 bytes\n",
      "dof                   int         999\n",
      "fr                    int         1\n",
      "full_file             str         /Volumes/serenceslab/holl<...>6afc/boot_all2_choice.npz\n",
      "hi_6afc_mod0          ndarray     1000x71x2: 142000 elems, type `float64`, 1136000 bytes (1.0833740234375 Mb)\n",
      "hi_6afc_mod1          ndarray     1000x71x2: 142000 elems, type `float64`, 1136000 bytes (1.0833740234375 Mb)\n",
      "hi_6afc_mod2          ndarray     1000x71x2: 142000 elems, type `float64`, 1136000 bytes (1.0833740234375 Mb)\n",
      "i                     int         1\n",
      "itertools             module      <module 'itertools' (built-in)>\n",
      "label_stim0           NoneType    None\n",
      "label_stim1           NoneType    None\n",
      "loadmat               function    <function loadmat at 0x7fef60da2940>\n",
      "modelnum              int         2\n",
      "models                list        n=3\n",
      "new_var_name          str         hi_6afc_mod2\n",
      "np                    module      <module 'numpy' from '/Us<...>kages/numpy/__init__.py'>\n",
      "os                    module      <module 'os' from '/Users<...>da3/lib/python3.8/os.py'>\n",
      "p_value               float64     1.938641092377812e-271\n",
      "pd                    module      <module 'pandas' from '/U<...>ages/pandas/__init__.py'>\n",
      "pearsonr              function    <function pearsonr at 0x7fef70ae3040>\n",
      "plt                   module      <module 'matplotlib.pyplo<...>es/matplotlib/pyplot.py'>\n",
      "s                     ndarray     71: 71 elems, type `float64`, 568 bytes\n",
      "sem                   function    <function sem at 0x7fef70ad5280>\n",
      "significant_regions   ndarray     71: 71 elems, type `bool`, 71 bytes\n",
      "ss                    ndarray     71: 71 elems, type `float64`, 568 bytes\n",
      "stim_0                ndarray     1000: 1000 elems, type `float64`, 8000 bytes\n",
      "stim_i                ndarray     1000: 1000 elems, type `float64`, 8000 bytes\n",
      "sys                   module      <module 'sys' (built-in)>\n",
      "t                     t_gen       <scipy.stats._continuous_<...>object at 0x7fef6096bbb0>\n",
      "t_crit                float64     1.9623414611334487\n",
      "t_stat                float64     -41.44056706917753\n",
      "t_step                int         70\n",
      "ttest_ind             function    <function ttest_ind at 0x7fef70adbf70>\n",
      "var                   str         acc\n",
      "x_data                ndarray     71: 71 elems, type `int64`, 568 bytes\n"
     ]
    }
   ],
   "source": [
    "%whos"
   ]
  },
  {
   "cell_type": "code",
   "execution_count": 13,
   "id": "33162d12-0667-414c-8c9e-2689e60476af",
   "metadata": {},
   "outputs": [],
   "source": [
    "\n",
    "i = 0\n",
    "cond = globals()[f'{coh}_{afc}afc_mod{i}']"
   ]
  },
  {
   "cell_type": "code",
   "execution_count": 14,
   "id": "a23deb69-4a9e-4798-9776-328c137376d3",
   "metadata": {},
   "outputs": [
    {
     "data": {
      "text/plain": [
       "(1000, 71, 2)"
      ]
     },
     "execution_count": 14,
     "metadata": {},
     "output_type": "execute_result"
    }
   ],
   "source": [
    "cond.shape"
   ]
  },
  {
   "cell_type": "code",
   "execution_count": 20,
   "id": "0cac42b8-f5b6-4a71-9ae6-1b19032d39d1",
   "metadata": {
    "tags": []
   },
   "outputs": [
    {
     "data": {
      "image/png": "[encoded data removed]",
      "text/plain": [
       "<Figure size 720x432 with 1 Axes>"
      ]
     },
     "metadata": {
      "needs_background": "light"
     },
     "output_type": "display_data"
    }
   ],
   "source": [
    "# plot\n",
    "\n",
    "\n",
    "confidence = .95\n",
    "\n",
    "\n",
    "colors = ['#567164', '#93A267', '#7BA1BF', '#BE955D', '#995051', '#656193']\n",
    "\n",
    "\n",
    "plt.figure(figsize = (10,6))\n",
    "for i in range(len(models)):\n",
    "    \n",
    "    cond = globals()[f'{coh}_{afc}afc_mod{i}']\n",
    "    \n",
    "    dof = cond.shape[0] - 1\n",
    "    t_crit = np.abs(t.ppf((1-confidence)/2,dof))\n",
    "    data = np.mean(cond, axis = 0)\n",
    "    x_data = np.arange(data.shape[0])\n",
    "    \n",
    "    label_stim0 = '0' if i == 0 else None\n",
    "    label_stim1 = '1:5' if i == 0 else None\n",
    "    \n",
    "    # plot stim 0\n",
    "    s = cond[:,:,0].std(axis=0)\n",
    "    plt.plot(data[:, 0], label=label_stim0, color = colors[0])\n",
    "    plt.fill_between(x_data, data[:,0] -s, data[:,0] +s, color = colors[0], alpha = 0.3)\n",
    "    \n",
    "    # plot stim 1\n",
    "    ss = np.mean(cond[:,:,1:], axis = 2).std(axis=0)\n",
    "    plt.plot(np.mean(data[:, 1:], axis = 1), label=label_stim1, color = colors[4])\n",
    "    plt.fill_between(x_data, np.mean(data[:,1:], axis = 1) -ss, np.mean(data[:,1:], axis = 1) + ss, color = colors[4], alpha = 0.3)\n",
    "    \n",
    "\n",
    "significant_regions = np.zeros(cond.shape[1], dtype=bool)\n",
    "alpha = 0.05\n",
    "for t_step in range(cond.shape[1]):\n",
    "    stim_0 = cond[:, t_step, 0]\n",
    "    for i in range(1, 2): # used to be afc\n",
    "        stim_i = cond[:, t_step, i]\n",
    "        t_stat, p_value = ttest_ind(stim_0, stim_i)\n",
    "        if p_value < alpha:\n",
    "            significant_regions[t_step] = True\n",
    "            break  # Once we find significance with any stim, we can stop checking\n",
    "\n",
    "# Shade the regions where Stim 0 significantly differs from others\n",
    "#plt.fill_between(x_data, plt.ylim()[0], plt.ylim()[1], where=significant_regions, color='red', alpha=0.1)\n",
    "\n",
    "plt.rcParams.update({'font.size': 20})\n",
    "plt.xlabel('time steps after stim offset')\n",
    "plt.ylabel('Decoding accuracy')\n",
    "plt.title(f'{afc} afc {coh} coh')\n",
    "plt.legend(title = 'Stim',bbox_to_anchor=(1.05, 1), loc='upper left', borderaxespad=0.)\n",
    "plt.ylim(0.5, 1)\n",
    "# Adjust layout to make room for the legend\n",
    "plt.tight_layout(rect=[0, 0, 0.85, 1])\n",
    "\n",
    "\n",
    "#plt.savefig(f'/Volumes/serenceslab/holly/RNN_Geo/data/decoding/expected/fr{fr}/{coh}_{afc}afc_allmods_choice.png')\n",
    "plt.show()\n",
    "\n"
   ]
  },
  {
   "cell_type": "code",
   "execution_count": 29,
   "id": "ab211503-12a4-4c19-8680-26a67086fb87",
   "metadata": {},
   "outputs": [
    {
     "data": {
      "text/plain": [
       "(71, 5)"
      ]
     },
     "execution_count": 29,
     "metadata": {},
     "output_type": "execute_result"
    }
   ],
   "source": [
    "ss.shape"
   ]
  },
  {
   "cell_type": "code",
   "execution_count": 56,
   "id": "3dc66c40-38ca-48a4-ba78-19ed1ecf0f64",
   "metadata": {},
   "outputs": [
    {
     "data": {
      "text/plain": [
       "0.0665"
      ]
     },
     "execution_count": 56,
     "metadata": {},
     "output_type": "execute_result"
    }
   ],
   "source": [
    "133/2000\n"
   ]
  },
  {
   "cell_type": "code",
   "execution_count": null,
   "id": "1f79cad9-664f-4bb1-a3ee-9962a2dfa1e8",
   "metadata": {},
   "outputs": [],
   "source": []
  }
 ],
 "metadata": {
  "kernelspec": {
   "display_name": "Python 3",
   "language": "python",
   "name": "python3"
  },
  "language_info": {
   "codemirror_mode": {
    "name": "ipython",
    "version": 3
   },
   "file_extension": ".py",
   "mimetype": "text/x-python",
   "name": "python",
   "nbconvert_exporter": "python",
   "pygments_lexer": "ipython3",
   "version": "3.8.8"
  }
 },
 "nbformat": 4,
 "nbformat_minor": 5
}
