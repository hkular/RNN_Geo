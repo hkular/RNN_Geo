{
 "cells": [
  {
   "cell_type": "markdown",
   "id": "290d8cb1-c449-4aa8-bbd7-d60118163356",
   "metadata": {},
   "source": [
    "Name: Holly Kular\\\n",
    "Date: 03-19-2024\\\n",
    "Email: hkular@ucsd.edu\\\n",
    "decode_L1_stimvschoice\\\n",
    "Description: Script for decoding analysis on layer 1 of probabilistic RNN"
   ]
  },
  {
   "cell_type": "code",
   "execution_count": 1,
   "id": "000af540-4a71-4886-8250-9bdfbdfa74f0",
   "metadata": {},
   "outputs": [],
   "source": [
    "import numpy as np\n",
    "import matplotlib.pyplot as plt\n",
    "import sys\n",
    "import os"
   ]
  },
  {
   "cell_type": "code",
   "execution_count": 2,
   "id": "0210ed5e-58cc-4e61-a61a-8ae298c19094",
   "metadata": {},
   "outputs": [],
   "source": [
    "from sklearn.model_selection import cross_val_score\n",
    "from sklearn.model_selection import RepeatedStratifiedKFold\n",
    "from sklearn.svm import SVC  \n",
    "from sklearn.model_selection import GridSearchCV\n",
    "from sklearn.datasets import make_classification  \n",
    "from scipy.optimize import curve_fit\n",
    "from multiprocessing import Pool"
   ]
  },
  {
   "cell_type": "code",
   "execution_count": 3,
   "id": "b585d928-bf9e-46a9-a2ba-d77873aa5bb4",
   "metadata": {},
   "outputs": [],
   "source": [
    "# MODIFY HERE\n",
    "# what conditions were the RNNs trained on?\n",
    "prob_split = '70_30' # the probability of stimulus 1 vs all\n",
    "afc = '6' # number of alternatives\n",
    "coh = 'hi' # coherence\n",
    "feedback = False # interlayer feedback (true or false)\n",
    "thresh = [ 0.3,0.7 ] # threshold for whether stim 1 or other\n",
    "\n",
    "# decode opts\n",
    "time_avg = False # do we want to look at average over time window?\n",
    "if time_avg:\n",
    "    t_win = [ 200,-1 ]\n",
    "n_cvs = 5\n",
    "# store the accuracy\n",
    "acc = np.full( ( n_cvs ), np.nan )\n",
    "\n",
    "# penalties to eval\n",
    "num_cgs = 30\n",
    "Cs = np.logspace( -5,1,num_cgs )\n",
    "\n",
    "# set up the grid\n",
    "param_grid = { 'C': Cs, 'kernel': ['linear'] }\n",
    "\n",
    "# define object - use a SVC that balances class weights (because they are biased, e.g. 70/30)\n",
    "# note that can also specify cv folds here, but I'm doing it by hand below in a loop\n",
    "grid = GridSearchCV( SVC(class_weight = 'balanced'),param_grid,refit=True,verbose=0 )\n"
   ]
  },
  {
   "cell_type": "code",
   "execution_count": 4,
   "id": "9a68920d-f067-4e10-a8f1-158f6f447bee",
   "metadata": {},
   "outputs": [],
   "source": [
    "# Data Directory\n",
    "if sys.platform.startswith('linux'):\n",
    "    data_dir = f\"/mnt/neurocube/local/serenceslab/holly/RNN_Geo/data/rdk_{prob_split}_{afc}afc/feedforward_only/{coh}_coh\"\n",
    "else:\n",
    "    data_dir = f\"/Volumes/serenceslab/holly/RNN_Geo/data/rdk_{prob_split}_{afc}afc/feedforward_only/{coh}_coh\"\n",
    "\n",
    "# Load data\n",
    "#data = np.load(f\"{data_dir}/Trials.npz\")\n",
    "data = np.load(f\"{data_dir}/Trials200_0expected.npz\")\n",
    "task_info = {}\n",
    "task_info['trials'] = 200\n",
    "task_info['trial_dur'] = 250  # trial duration (timesteps)\n",
    "task_info['stim_on'] = 80\n",
    "task_info['stim_dur'] = 50"
   ]
  },
  {
   "cell_type": "code",
   "execution_count": 5,
   "id": "7f0f6ac6-d14c-4451-ae5d-a9a874f97adc",
   "metadata": {},
   "outputs": [],
   "source": [
    "# make a progress bar for decoding that takes more than 1s\n",
    "def update_progress(progress, total):\n",
    "    bar_length = 20  # Adjust this for desired bar length\n",
    "    filled_length = int(round(progress / total * bar_length))\n",
    "    bar = '=' * filled_length + '-' * (bar_length - filled_length)\n",
    "    print(f'Progress: [{bar}] {progress}/{total}', end='\\r')"
   ]
  },
  {
   "cell_type": "markdown",
   "id": "327c746c-1c31-4ad1-a8ec-89734d99fd99",
   "metadata": {},
   "source": [
    "## Compare decode choice vs. stim\n",
    "Hypothesis: We can decode stimulus better than choice from layer 1 because of a more sensory-like format"
   ]
  },
  {
   "cell_type": "markdown",
   "id": "8ee5aa49-64f7-4a6f-92f1-fa298955f070",
   "metadata": {},
   "source": [
    "### Decode choice"
   ]
  },
  {
   "cell_type": "code",
   "execution_count": 6,
   "id": "865d2939-19b4-4447-8931-404ecf2d8ab9",
   "metadata": {},
   "outputs": [],
   "source": [
    "# Decode trials: RNN stim choice\n",
    "# get the data from layer 1 decode choice\n",
    "# this is a [trial x time step x unit] matrix\n",
    "data_d = data['fr1']\n",
    "labs = data['outs'][:,-1]"
   ]
  },
  {
   "cell_type": "code",
   "execution_count": 7,
   "id": "4c7e15f8-27fe-4ba1-b37f-db09e59d687a",
   "metadata": {},
   "outputs": [],
   "source": [
    "# average if needed and pick trials\n",
    "if time_avg:\n",
    "    data_d = np.mean( data_d[ :,t_win[0]:t_win[1], : ], axis = 1 )# avg over time window\n",
    "\n",
    "# get some info about structure of the data\n",
    "tris = data_d.shape[0]             # number of trials\n",
    "tri_ind = np.arange(0,tris)      # list from 0...tris\n",
    "hold_out = int( tris / n_cvs )   # how many trials to hold out"
   ]
  },
  {
   "cell_type": "code",
   "execution_count": 8,
   "id": "c1ba66ff-804b-4f94-9c55-df3fc4981464",
   "metadata": {},
   "outputs": [
    {
     "name": "stdout",
     "output_type": "stream",
     "text": [
      "Progress: [====================] 1250/1250\n",
      "done decoding\n"
     ]
    }
   ],
   "source": [
    "# Do decoding\n",
    "if time_avg:\n",
    "    data_d = np.mean( data_d[ :,t_win[0]:t_win[1],: ], axis = 1 ) # average over time window\n",
    "    for i in range(n_cvs):\n",
    "\n",
    "        # trials to hold out as test set on this cv fold\n",
    "        tst_ind = tri_ind[ i*hold_out : (i+1)*hold_out ]\n",
    "\n",
    "        # index into the training data on this cv fold\n",
    "        trn_ind = np.setdiff1d( tri_ind, tst_ind )\n",
    "\n",
    "        # get the training data (X) and the training labels (y)\n",
    "        X = data_d[ trn_ind,: ]\n",
    "        y = np.select([labs[trn_ind] >= thresh[1], labs[trn_ind] <= thresh[0]], [ 0,1 ], default=0)#np.select([labs[trn_ind] >= thresh], [1], default=0) \n",
    "\n",
    "        # Fit the model on the binary labels\n",
    "        grid.fit( X, y )\n",
    "\n",
    "        # get the test data (X) and the test labels (y)\n",
    "        X_test = data_d[tst_ind, :]\n",
    "        y_test = np.select([labs[tst_ind] >= thresh[1], labs[trn_ind] <= thresh[0]], [ 0,1 ], default=0)\n",
    "\n",
    "        # predict!\n",
    "        acc[ i ] = grid.score( X_test,y_test )\n",
    "\n",
    "        # Evaluate accuracy\n",
    "        accuracy = np.mean( acc )\n",
    "        # Print overall results\n",
    "        print(f'CV: {i}, {grid.best_estimator_}')  \n",
    "        \n",
    "else:\n",
    "    # run in parallel over time steps\n",
    "    total_iterations = task_info['trial_dur'] * n_cvs\n",
    "    decoding_acc = np.zeros((task_info['trial_dur'],))\n",
    "    for t_step in range(task_info['trial_dur']):\n",
    "\n",
    "        data_slice = data_d[:, t_step, :]\n",
    "\n",
    "        # loop over cvs and do classification\n",
    "        for i in range(n_cvs):\n",
    "\n",
    "            # trials to hold out as test set on this cv fold\n",
    "            tst_ind = tri_ind[ i*hold_out : (i+1)*hold_out ]\n",
    "\n",
    "            # index into the training data on this cv fold\n",
    "            trn_ind = np.setdiff1d( tri_ind, tst_ind )\n",
    "\n",
    "            # get the training data (X) and the training labels (y)\n",
    "            X = data_slice[trn_ind,:]\n",
    "            y = np.select([labs[trn_ind] >= thresh[1], labs[trn_ind] <= thresh[0]], [0,1], default=0)\n",
    "\n",
    "            # fit the model\n",
    "            grid.fit( X,y )\n",
    "\n",
    "            # progress report\n",
    "            #print(f'CV: {i}, {grid.best_estimator_}')\n",
    "\n",
    "            # get the test data (X) and the test labels (y)\n",
    "            X_test = data_slice[tst_ind, :]\n",
    "            y_test = np.select([labs[tst_ind] >= thresh[1], labs[tst_ind] <= thresh[0]], [0,1], default=0)\n",
    "\n",
    "            # predict!\n",
    "            acc[ i ] = grid.score( X_test,y_test )\n",
    "            update_progress((t_step * n_cvs) + i + 1, total_iterations)\n",
    "        decoding_acc[t_step] = np.mean(acc)        \n",
    "    plots = True # show decoding acc over time\n",
    "    print('')  # Print a newline after the progress bar    \n",
    "print(f'done decoding')\n",
    "\n"
   ]
  },
  {
   "cell_type": "code",
   "execution_count": 9,
   "id": "16c55069-8204-4e87-af80-aa424f7cbcc8",
   "metadata": {},
   "outputs": [
    {
     "data": {
      "image/png": "[encoded data removed]",
      "text/plain": [
       "<Figure size 432x288 with 1 Axes>"
      ]
     },
     "metadata": {
      "needs_background": "light"
     },
     "output_type": "display_data"
    }
   ],
   "source": [
    "if plots:\n",
    "    # Plot decoding accuracy over time\n",
    "    plt.figure()\n",
    "    plt.plot(range(task_info['trial_dur']), decoding_acc)\n",
    "    plt.xlabel('Time Step')\n",
    "    plt.ylabel('Decoding Accuracy')\n",
    "    plt.title('Decoding Accuracy Over Time')\n",
    "    plt.axvspan(task_info['stim_on'], task_info['stim_on']+task_info['stim_dur'], color = 'gray', alpha = 0.3)\n",
    "    plt.savefig(f\"{data_dir}/decode_choice.png\")\n",
    "    plt.show()  "
   ]
  },
  {
   "cell_type": "code",
   "execution_count": 10,
   "id": "4940de9e-b585-4df9-b61e-10620600fc2d",
   "metadata": {},
   "outputs": [
    {
     "name": "stdout",
     "output_type": "stream",
     "text": [
      "Estimated y-value of the asymptote: 0.9734028102592147\n"
     ]
    },
    {
     "data": {
      "image/png": "[encoded data removed]",
      "text/plain": [
       "<Figure size 432x288 with 1 Axes>"
      ]
     },
     "metadata": {
      "needs_background": "light"
     },
     "output_type": "display_data"
    }
   ],
   "source": [
    "# fit logistic function\n",
    "def logistic_func(x, a, b, c, d):\n",
    "    return a / (1 + np.exp(-c * (x - d))) + b\n",
    "\n",
    "\n",
    "\n",
    "popt, _ = curve_fit(logistic_func, range(0, task_info['trial_dur']), decoding_acc[0:])\n",
    "\n",
    "# 'popt' will contain the fitted parameters (a, b, c) of the log function\n",
    "\n",
    "# Optional: Estimate the y-value of the asymptote (assuming based on parameter a)\n",
    "asymptote_y = popt[1]\n",
    "print(\"Estimated y-value of the asymptote:\", asymptote_y)\n",
    "\n",
    "# Optional: Visualization\n",
    "plt.plot(range(0, task_info['trial_dur']), decoding_acc[0:], label='Data')\n",
    "plt.plot(range(0, task_info['trial_dur']), logistic_func(range(0, task_info['trial_dur']), *popt), label=f'y asymptote of logistic {round(asymptote_y, 3)}')\n",
    "plt.axvspan(task_info['stim_on'], task_info['stim_on']+task_info['stim_dur'], color = 'gray', alpha = 0.3)\n",
    "plt.xlabel('Time Step')\n",
    "plt.ylabel('Decoding Accuracy')\n",
    "plt.title('Decoding Accuracy Over Time (Logistic Fit)')\n",
    "plt.legend()\n",
    "plt.savefig(f\"{data_dir}/decode_choicefit.png\")\n",
    "plt.show()"
   ]
  },
  {
   "cell_type": "markdown",
   "id": "ba8114da-64b8-40a5-ad57-0b51bbaf6be6",
   "metadata": {},
   "source": [
    "### Decode stim"
   ]
  },
  {
   "cell_type": "code",
   "execution_count": 11,
   "id": "87962003-7368-4e72-ad63-aa3e3972675a",
   "metadata": {},
   "outputs": [],
   "source": [
    "# Decode trials: RNN stim presented\n",
    "\n",
    "# get the data from layer 1 decode stim\n",
    "# this is a [trial x time step x unit] matrix\n",
    "data_d = data['fr1']\n",
    "labs = data['labs'].squeeze()\n",
    "\n",
    "# average if needed and pick trials\n",
    "if time_avg:\n",
    "    data_d = np.mean( data_d[ :,t_win[0]:t_win[1], : ], axis = 1 )# avg over time window\n",
    "\n",
    "# get some info about structure of the data\n",
    "tris = data_d.shape[0]             # number of trials\n",
    "tri_ind = np.arange(0,tris)      # list from 0...tris\n",
    "hold_out = int( tris / n_cvs )   # how many trials to hold out"
   ]
  },
  {
   "cell_type": "code",
   "execution_count": 12,
   "id": "5d5557f4-a8cf-42dd-a5cf-0f0d164a869d",
   "metadata": {},
   "outputs": [
    {
     "name": "stdout",
     "output_type": "stream",
     "text": [
      "Progress: [====================] 1250/1250\n",
      "done decoding\n"
     ]
    }
   ],
   "source": [
    "# Do decoding\n",
    "if time_avg:\n",
    "    data_d = np.mean( data_d[ :,t_win[0]:t_win[1],: ], axis = 1 ) # average over time window\n",
    "        # Within each cross-validation fold\n",
    "    for i in range(n_cvs):\n",
    "\n",
    "        # trials to hold out as test set on this cv fold\n",
    "        tst_ind = tri_ind[ i*hold_out : (i+1)*hold_out ]\n",
    "\n",
    "        # index into the training data on this cv fold\n",
    "        trn_ind = np.setdiff1d( tri_ind, tst_ind )\n",
    "\n",
    "        # get the training data (X) and the training labels (y)\n",
    "        # note that y is unbalanced unless prob is 50/50\n",
    "        X = data_d[ trn_ind,: ]\n",
    "        y = labs[trn_ind]\n",
    "\n",
    "        # Fit the model on the binary labels\n",
    "        grid.fit( X, y )\n",
    "\n",
    "        # get the test data (X) and the test labels (y)\n",
    "        X_test = data_d[tst_ind, :]\n",
    "        y_test = labs[tst_ind]\n",
    "\n",
    "        # predict!\n",
    "        acc[ i ] = grid.score( X_test,y_test )\n",
    "\n",
    "        # Evaluate accuracy\n",
    "        accuracy = np.mean( acc )\n",
    "        # Print overall results\n",
    "        print(f'CV: {i}, {grid.best_estimator_}')  \n",
    "        \n",
    "else:\n",
    "    \n",
    "    total_iterations = task_info['trial_dur'] * n_cvs\n",
    "    decoding_acc = np.zeros((task_info['trial_dur'],))\n",
    "    for t_step in range(task_info['trial_dur']):\n",
    "\n",
    "        data_slice = data_d[:, t_step, :]\n",
    "\n",
    "        # loop over cvs and do classification\n",
    "        for i in range(n_cvs):\n",
    "\n",
    "            # trials to hold out as test set on this cv fold\n",
    "            tst_ind = tri_ind[ i*hold_out : (i+1)*hold_out ]\n",
    "\n",
    "            # index into the training data on this cv fold\n",
    "            trn_ind = np.setdiff1d( tri_ind, tst_ind )\n",
    "\n",
    "            # get the training data (X) and the training labels (y)\n",
    "            X = data_slice[trn_ind,:]\n",
    "            y = labs[trn_ind] \n",
    "\n",
    "            # fit the model\n",
    "            grid.fit( X,y )\n",
    "\n",
    "            # progress report\n",
    "            #print(f'CV: {i}, {grid.best_estimator_}')\n",
    "\n",
    "            # get the test data (X) and the test labels (y)\n",
    "            X_test = data_slice[tst_ind, :]\n",
    "            y_test = labs[tst_ind]\n",
    "\n",
    "            # predict!\n",
    "            acc[ i ] = grid.score( X_test,y_test )\n",
    "            update_progress((t_step * n_cvs) + i + 1, total_iterations)\n",
    "        decoding_acc[t_step] = np.mean(acc)        \n",
    "    plots = True # show decoding acc over time\n",
    "    print('')  # Print a newline after the progress bar    \n",
    "print(f'done decoding')\n",
    "\n"
   ]
  },
  {
   "cell_type": "code",
   "execution_count": null,
   "id": "d455791c-bb5e-4b48-a617-1fdf86182891",
   "metadata": {},
   "outputs": [],
   "source": [
    "if plots:\n",
    "    # Plot decoding accuracy over time\n",
    "    plt.figure()\n",
    "    plt.plot(range(task_info['trial_dur']), decoding_acc)\n",
    "    plt.xlabel('Time Step')\n",
    "    plt.ylabel('Decoding Accuracy')\n",
    "    plt.title('Decoding Accuracy Over Time')\n",
    "    plt.axvspan(task_info['stim_on'], task_info['stim_on']+task_info['stim_dur'], color = 'gray', alpha = 0.3)\n",
    "    plt.savefig(f\"{data_dir}/decode_stim.png\")\n",
    "    plt.show()  "
   ]
  },
  {
   "cell_type": "code",
   "execution_count": 32,
   "id": "c6dfc9d7-dbfe-44d6-a204-7b62b88505ca",
   "metadata": {},
   "outputs": [
    {
     "ename": "ValueError",
     "evalue": "operands could not be broadcast together with shapes (150,) (250,) ",
     "output_type": "error",
     "traceback": [
      "\u001b[0;31m---------------------------------------------------------------------------\u001b[0m",
      "\u001b[0;31mValueError\u001b[0m                                Traceback (most recent call last)",
      "\u001b[0;32m<ipython-input-32-adcff3e9afb6>\u001b[0m in \u001b[0;36m<module>\u001b[0;34m\u001b[0m\n\u001b[1;32m      3\u001b[0m     \u001b[0;32mreturn\u001b[0m \u001b[0ma\u001b[0m \u001b[0;34m/\u001b[0m \u001b[0;34m(\u001b[0m\u001b[0;36m1\u001b[0m \u001b[0;34m+\u001b[0m \u001b[0mnp\u001b[0m\u001b[0;34m.\u001b[0m\u001b[0mexp\u001b[0m\u001b[0;34m(\u001b[0m\u001b[0;34m-\u001b[0m\u001b[0mc\u001b[0m \u001b[0;34m*\u001b[0m \u001b[0;34m(\u001b[0m\u001b[0mx\u001b[0m \u001b[0;34m-\u001b[0m \u001b[0md\u001b[0m\u001b[0;34m)\u001b[0m\u001b[0;34m)\u001b[0m\u001b[0;34m)\u001b[0m \u001b[0;34m+\u001b[0m \u001b[0mb\u001b[0m\u001b[0;34m\u001b[0m\u001b[0;34m\u001b[0m\u001b[0m\n\u001b[1;32m      4\u001b[0m \u001b[0;34m\u001b[0m\u001b[0m\n\u001b[0;32m----> 5\u001b[0;31m \u001b[0mpopt\u001b[0m\u001b[0;34m,\u001b[0m \u001b[0m_\u001b[0m \u001b[0;34m=\u001b[0m \u001b[0mcurve_fit\u001b[0m\u001b[0;34m(\u001b[0m\u001b[0mlogistic_func\u001b[0m\u001b[0;34m,\u001b[0m \u001b[0mrange\u001b[0m\u001b[0;34m(\u001b[0m\u001b[0;36m0\u001b[0m\u001b[0;34m,\u001b[0m \u001b[0;36m150\u001b[0m\u001b[0;34m)\u001b[0m\u001b[0;34m,\u001b[0m \u001b[0mdecoding_acc\u001b[0m\u001b[0;34m[\u001b[0m\u001b[0;36m0\u001b[0m\u001b[0;34m:\u001b[0m\u001b[0;34m]\u001b[0m\u001b[0;34m)\u001b[0m\u001b[0;31m#task_info['trial_dur']\u001b[0m\u001b[0;34m\u001b[0m\u001b[0;34m\u001b[0m\u001b[0m\n\u001b[0m\u001b[1;32m      6\u001b[0m \u001b[0;34m\u001b[0m\u001b[0m\n\u001b[1;32m      7\u001b[0m \u001b[0;31m# 'popt' will contain the fitted parameters (a, b, c) of the log function\u001b[0m\u001b[0;34m\u001b[0m\u001b[0;34m\u001b[0m\u001b[0;34m\u001b[0m\u001b[0m\n",
      "\u001b[0;32m~/opt/anaconda3/lib/python3.8/site-packages/scipy/optimize/_minpack_py.py\u001b[0m in \u001b[0;36mcurve_fit\u001b[0;34m(f, xdata, ydata, p0, sigma, absolute_sigma, check_finite, bounds, method, jac, full_output, **kwargs)\u001b[0m\n\u001b[1;32m    857\u001b[0m             raise TypeError(f\"The number of func parameters={n} must not\"\n\u001b[1;32m    858\u001b[0m                             f\" exceed the number of data points={ydata.size}\")\n\u001b[0;32m--> 859\u001b[0;31m         \u001b[0mres\u001b[0m \u001b[0;34m=\u001b[0m \u001b[0mleastsq\u001b[0m\u001b[0;34m(\u001b[0m\u001b[0mfunc\u001b[0m\u001b[0;34m,\u001b[0m \u001b[0mp0\u001b[0m\u001b[0;34m,\u001b[0m \u001b[0mDfun\u001b[0m\u001b[0;34m=\u001b[0m\u001b[0mjac\u001b[0m\u001b[0;34m,\u001b[0m \u001b[0mfull_output\u001b[0m\u001b[0;34m=\u001b[0m\u001b[0;36m1\u001b[0m\u001b[0;34m,\u001b[0m \u001b[0;34m**\u001b[0m\u001b[0mkwargs\u001b[0m\u001b[0;34m)\u001b[0m\u001b[0;34m\u001b[0m\u001b[0;34m\u001b[0m\u001b[0m\n\u001b[0m\u001b[1;32m    860\u001b[0m         \u001b[0mpopt\u001b[0m\u001b[0;34m,\u001b[0m \u001b[0mpcov\u001b[0m\u001b[0;34m,\u001b[0m \u001b[0minfodict\u001b[0m\u001b[0;34m,\u001b[0m \u001b[0merrmsg\u001b[0m\u001b[0;34m,\u001b[0m \u001b[0mier\u001b[0m \u001b[0;34m=\u001b[0m \u001b[0mres\u001b[0m\u001b[0;34m\u001b[0m\u001b[0;34m\u001b[0m\u001b[0m\n\u001b[1;32m    861\u001b[0m         \u001b[0mysize\u001b[0m \u001b[0;34m=\u001b[0m \u001b[0mlen\u001b[0m\u001b[0;34m(\u001b[0m\u001b[0minfodict\u001b[0m\u001b[0;34m[\u001b[0m\u001b[0;34m'fvec'\u001b[0m\u001b[0;34m]\u001b[0m\u001b[0;34m)\u001b[0m\u001b[0;34m\u001b[0m\u001b[0;34m\u001b[0m\u001b[0m\n",
      "\u001b[0;32m~/opt/anaconda3/lib/python3.8/site-packages/scipy/optimize/_minpack_py.py\u001b[0m in \u001b[0;36mleastsq\u001b[0;34m(func, x0, args, Dfun, full_output, col_deriv, ftol, xtol, gtol, maxfev, epsfcn, factor, diag)\u001b[0m\n\u001b[1;32m    411\u001b[0m     \u001b[0;32mif\u001b[0m \u001b[0;32mnot\u001b[0m \u001b[0misinstance\u001b[0m\u001b[0;34m(\u001b[0m\u001b[0margs\u001b[0m\u001b[0;34m,\u001b[0m \u001b[0mtuple\u001b[0m\u001b[0;34m)\u001b[0m\u001b[0;34m:\u001b[0m\u001b[0;34m\u001b[0m\u001b[0;34m\u001b[0m\u001b[0m\n\u001b[1;32m    412\u001b[0m         \u001b[0margs\u001b[0m \u001b[0;34m=\u001b[0m \u001b[0;34m(\u001b[0m\u001b[0margs\u001b[0m\u001b[0;34m,\u001b[0m\u001b[0;34m)\u001b[0m\u001b[0;34m\u001b[0m\u001b[0;34m\u001b[0m\u001b[0m\n\u001b[0;32m--> 413\u001b[0;31m     \u001b[0mshape\u001b[0m\u001b[0;34m,\u001b[0m \u001b[0mdtype\u001b[0m \u001b[0;34m=\u001b[0m \u001b[0m_check_func\u001b[0m\u001b[0;34m(\u001b[0m\u001b[0;34m'leastsq'\u001b[0m\u001b[0;34m,\u001b[0m \u001b[0;34m'func'\u001b[0m\u001b[0;34m,\u001b[0m \u001b[0mfunc\u001b[0m\u001b[0;34m,\u001b[0m \u001b[0mx0\u001b[0m\u001b[0;34m,\u001b[0m \u001b[0margs\u001b[0m\u001b[0;34m,\u001b[0m \u001b[0mn\u001b[0m\u001b[0;34m)\u001b[0m\u001b[0;34m\u001b[0m\u001b[0;34m\u001b[0m\u001b[0m\n\u001b[0m\u001b[1;32m    414\u001b[0m     \u001b[0mm\u001b[0m \u001b[0;34m=\u001b[0m \u001b[0mshape\u001b[0m\u001b[0;34m[\u001b[0m\u001b[0;36m0\u001b[0m\u001b[0;34m]\u001b[0m\u001b[0;34m\u001b[0m\u001b[0;34m\u001b[0m\u001b[0m\n\u001b[1;32m    415\u001b[0m \u001b[0;34m\u001b[0m\u001b[0m\n",
      "\u001b[0;32m~/opt/anaconda3/lib/python3.8/site-packages/scipy/optimize/_minpack_py.py\u001b[0m in \u001b[0;36m_check_func\u001b[0;34m(checker, argname, thefunc, x0, args, numinputs, output_shape)\u001b[0m\n\u001b[1;32m     24\u001b[0m def _check_func(checker, argname, thefunc, x0, args, numinputs,\n\u001b[1;32m     25\u001b[0m                 output_shape=None):\n\u001b[0;32m---> 26\u001b[0;31m     \u001b[0mres\u001b[0m \u001b[0;34m=\u001b[0m \u001b[0matleast_1d\u001b[0m\u001b[0;34m(\u001b[0m\u001b[0mthefunc\u001b[0m\u001b[0;34m(\u001b[0m\u001b[0;34m*\u001b[0m\u001b[0;34m(\u001b[0m\u001b[0;34m(\u001b[0m\u001b[0mx0\u001b[0m\u001b[0;34m[\u001b[0m\u001b[0;34m:\u001b[0m\u001b[0mnuminputs\u001b[0m\u001b[0;34m]\u001b[0m\u001b[0;34m,\u001b[0m\u001b[0;34m)\u001b[0m \u001b[0;34m+\u001b[0m \u001b[0margs\u001b[0m\u001b[0;34m)\u001b[0m\u001b[0;34m)\u001b[0m\u001b[0;34m)\u001b[0m\u001b[0;34m\u001b[0m\u001b[0;34m\u001b[0m\u001b[0m\n\u001b[0m\u001b[1;32m     27\u001b[0m     \u001b[0;32mif\u001b[0m \u001b[0;34m(\u001b[0m\u001b[0moutput_shape\u001b[0m \u001b[0;32mis\u001b[0m \u001b[0;32mnot\u001b[0m \u001b[0;32mNone\u001b[0m\u001b[0;34m)\u001b[0m \u001b[0;32mand\u001b[0m \u001b[0;34m(\u001b[0m\u001b[0mshape\u001b[0m\u001b[0;34m(\u001b[0m\u001b[0mres\u001b[0m\u001b[0;34m)\u001b[0m \u001b[0;34m!=\u001b[0m \u001b[0moutput_shape\u001b[0m\u001b[0;34m)\u001b[0m\u001b[0;34m:\u001b[0m\u001b[0;34m\u001b[0m\u001b[0;34m\u001b[0m\u001b[0m\n\u001b[1;32m     28\u001b[0m         \u001b[0;32mif\u001b[0m \u001b[0;34m(\u001b[0m\u001b[0moutput_shape\u001b[0m\u001b[0;34m[\u001b[0m\u001b[0;36m0\u001b[0m\u001b[0;34m]\u001b[0m \u001b[0;34m!=\u001b[0m \u001b[0;36m1\u001b[0m\u001b[0;34m)\u001b[0m\u001b[0;34m:\u001b[0m\u001b[0;34m\u001b[0m\u001b[0;34m\u001b[0m\u001b[0m\n",
      "\u001b[0;32m~/opt/anaconda3/lib/python3.8/site-packages/scipy/optimize/_minpack_py.py\u001b[0m in \u001b[0;36mfunc_wrapped\u001b[0;34m(params)\u001b[0m\n\u001b[1;32m    499\u001b[0m     \u001b[0;32mif\u001b[0m \u001b[0mtransform\u001b[0m \u001b[0;32mis\u001b[0m \u001b[0;32mNone\u001b[0m\u001b[0;34m:\u001b[0m\u001b[0;34m\u001b[0m\u001b[0;34m\u001b[0m\u001b[0m\n\u001b[1;32m    500\u001b[0m         \u001b[0;32mdef\u001b[0m \u001b[0mfunc_wrapped\u001b[0m\u001b[0;34m(\u001b[0m\u001b[0mparams\u001b[0m\u001b[0;34m)\u001b[0m\u001b[0;34m:\u001b[0m\u001b[0;34m\u001b[0m\u001b[0;34m\u001b[0m\u001b[0m\n\u001b[0;32m--> 501\u001b[0;31m             \u001b[0;32mreturn\u001b[0m \u001b[0mfunc\u001b[0m\u001b[0;34m(\u001b[0m\u001b[0mxdata\u001b[0m\u001b[0;34m,\u001b[0m \u001b[0;34m*\u001b[0m\u001b[0mparams\u001b[0m\u001b[0;34m)\u001b[0m \u001b[0;34m-\u001b[0m \u001b[0mydata\u001b[0m\u001b[0;34m\u001b[0m\u001b[0;34m\u001b[0m\u001b[0m\n\u001b[0m\u001b[1;32m    502\u001b[0m     \u001b[0;32melif\u001b[0m \u001b[0mtransform\u001b[0m\u001b[0;34m.\u001b[0m\u001b[0mndim\u001b[0m \u001b[0;34m==\u001b[0m \u001b[0;36m1\u001b[0m\u001b[0;34m:\u001b[0m\u001b[0;34m\u001b[0m\u001b[0;34m\u001b[0m\u001b[0m\n\u001b[1;32m    503\u001b[0m         \u001b[0;32mdef\u001b[0m \u001b[0mfunc_wrapped\u001b[0m\u001b[0;34m(\u001b[0m\u001b[0mparams\u001b[0m\u001b[0;34m)\u001b[0m\u001b[0;34m:\u001b[0m\u001b[0;34m\u001b[0m\u001b[0;34m\u001b[0m\u001b[0m\n",
      "\u001b[0;31mValueError\u001b[0m: operands could not be broadcast together with shapes (150,) (250,) "
     ]
    }
   ],
   "source": [
    "# fit logistic function\n",
    "def logistic_func(x, a, b, c, d):\n",
    "    return a / (1 + np.exp(-c * (x - d))) + b\n",
    "\n",
    "popt, _ = curve_fit(logistic_func, range(0, task_info['trial_dur']), decoding_acc[0:])\n",
    "\n",
    "# 'popt' will contain the fitted parameters (a, b, c) of the log function\n",
    "\n",
    "# Optional: Estimate the y-value of the asymptote (assuming based on parameter a)\n",
    "asymptote_y = popt[1]\n",
    "print(\"Estimated y-value of the asymptote:\", asymptote_y)\n",
    "\n",
    "# Optional: Visualization\n",
    "plt.plot(range(0, task_info['trial_dur']), decoding_acc[0:], label='Data')\n",
    "plt.plot(range(0, task_info['trial_dur']), logistic_func(range(0, task_info['trial_dur']), *popt), label=f'y asymptote of logistic {round(asymptote_y, 3)}')\n",
    "plt.axvspan(task_info['stim_on'], task_info['stim_on']+task_info['stim_dur'], color = 'gray', alpha = 0.3)\n",
    "plt.xlabel('Time Step')\n",
    "plt.ylabel('Decoding Accuracy')\n",
    "plt.title('Decoding Accuracy Over Time (Logistic Fit)')\n",
    "plt.legend()\n",
    "plt.savefig(f\"{data_dir}/decode_stimfit.png\")\n",
    "plt.show()"
   ]
  },
  {
   "cell_type": "markdown",
   "id": "1695a71e-6f0e-4a15-9451-c4f30c0f1841",
   "metadata": {},
   "source": [
    "__________________"
   ]
  },
  {
   "cell_type": "markdown",
   "id": "7a1697bb-719d-4588-ba19-bececb70233c",
   "metadata": {},
   "source": [
    "# Graveyard below .... "
   ]
  },
  {
   "cell_type": "markdown",
   "id": "4d9cb375-ee27-43ab-8d49-ad6646dc0cc9",
   "metadata": {},
   "source": [
    "_____________"
   ]
  },
  {
   "cell_type": "code",
   "execution_count": 93,
   "id": "a8789816-115f-461e-a6df-f00cbdc9049d",
   "metadata": {},
   "outputs": [],
   "source": [
    "# not in use...keeping this in case I ever want to look at it again\n",
    "def evaluate_threshold(X, labs, thresh, model):\n",
    "    # Convert labels based on threshold\n",
    "    labs_binary = np.where(labs >= thresh, 1, 0)\n",
    "\n",
    "    # Train-test split\n",
    "    X_train, X_test, y_train, y_test = train_test_split(X, labs_binary, test_size=0.2)\n",
    "\n",
    "    # Fit the model\n",
    "    model.fit(X_train, y_train)\n",
    "\n",
    "    # Evaluate on test set\n",
    "    predictions = model.predict(X_test)\n",
    "    accuracy = accuracy_score(y_test, predictions)\n",
    "\n",
    "    return accuracy\n"
   ]
  },
  {
   "cell_type": "markdown",
   "id": "fb644bd5-8ef5-4d48-9f89-366eef55256b",
   "metadata": {},
   "source": [
    "______________________________________________________________________"
   ]
  },
  {
   "cell_type": "markdown",
   "id": "e629a808-bf31-4d15-9b8a-a10036607597",
   "metadata": {},
   "source": [
    "Try doing parallelization across CPU processes"
   ]
  },
  {
   "cell_type": "code",
   "execution_count": null,
   "id": "cd2b6541-0924-424f-8c38-0a1eb430a852",
   "metadata": {},
   "outputs": [],
   "source": [
    "# define fitting model for parallelization\n",
    "def fit_and_score_cv(t_step, data_slice, tri_ind, hold_out, n_cvs, labs, thresh, grid):\n",
    "    \"\"\"\n",
    "    Fits the model on each CV fold for a given time step\n",
    "\n",
    "    Args:\n",
    "      t_step: The time step index.\n",
    "      data_slice: The data slice for the current time step.\n",
    "      tri_ind: Indices of all trials.\n",
    "      hold_out: Number of trials to hold out for testing in each fold.\n",
    "      n_cvs: Number of CV folds.\n",
    "      labs: Labels for all trials.\n",
    "      thresh: Thresholds for binary classification.\n",
    "      grid: scikit-learn GridSearchCV object.\n",
    "\n",
    "    Returns:\n",
    "      A list of accuracies for each CV fold for the given time step.\n",
    "    \"\"\"\n",
    "    acc = []\n",
    "    for i in range(n_cvs):\n",
    "        # loop over CV folds within each t_step\n",
    "        # trials to hold out as test set on this cv fold\n",
    "        tst_ind = tri_ind[ i*hold_out : (i+1)*hold_out ]\n",
    "\n",
    "        # index into the training data on this cv fold\n",
    "        trn_ind = np.setdiff1d( tri_ind, tst_ind )\n",
    "\n",
    "        # get the training data (X) and the training labels (y)\n",
    "        X = data_slice[trn_ind,:]\n",
    "        y = np.select([labs[trn_ind] >= thresh[1], labs[trn_ind] <= thresh[0]], [0,1], default=0)\n",
    "\n",
    "        # fit the model\n",
    "        grid.fit( X,y )\n",
    "\n",
    "        # get the test data (X) and the test labels (y)\n",
    "        X_test = data_slice[tst_ind, :]\n",
    "        y_test = np.select([labs[tst_ind] >= thresh[1], labs[tst_ind] <= thresh[0]], [0,1], default=0)\n",
    "\n",
    "        # predict!\n",
    "        score = grid.score( X_test,y_test )\n",
    "        acc.append(score)  # Append accuracy for this CV fold\n",
    "    return acc\n"
   ]
  },
  {
   "cell_type": "code",
   "execution_count": null,
   "id": "71e488d5-e7f2-4d78-b157-b85c92ca745e",
   "metadata": {},
   "outputs": [],
   "source": [
    "def fit_and_score_cv(args):\n",
    "    # Your fit_and_score_cv function definition goes here\n",
    "    pass\n",
    "\n",
    "def process_t_step(t_step):\n",
    "    global data_d, task_info, n_cvs  # Ensure data is accessible within the function\n",
    "    decoding_acc_t_step = np.zeros(n_cvs)\n",
    "    data_slice = data_d[:, t_step, :]\n",
    "    for i in range(n_cvs):\n",
    "        # Your existing code within the loop goes here\n",
    "        pass\n",
    "    return np.mean(decoding_acc_t_step)\n",
    "\n",
    "if __name__ == \"__main__\":\n",
    "    total_iterations = task_info['trial_dur'] * n_cvs\n",
    "    decoding_acc = np.zeros((task_info['trial_dur'],))\n",
    "\n",
    "    # Set up multiprocessing pool\n",
    "    with Pool(processes=8) as pool:  # Adjust the number of processes as needed\n",
    "        results = pool.map(process_t_step, range(task_info['trial_dur']))\n",
    "\n",
    "    # Update decoding_acc with the results\n",
    "    decoding_acc = np.array(results)"
   ]
  },
  {
   "cell_type": "code",
   "execution_count": null,
   "id": "7ab32b54-9c75-49bc-b2fc-755e49a7883a",
   "metadata": {},
   "outputs": [],
   "source": [
    "# this doesn't work in jupyter \n",
    "# protect entry point\n",
    "if __name__ == \"__main__\":\n",
    "    \n",
    "    with Pool(processes=round(os.cpu_count()*.5)):  # use 70% of cpus\n",
    "        results = pool.starmap(fit_and_score_cv, [\n",
    "            (t_step, data_d[:, t_step, :], tri_ind, hold_out, n_cvs, labs, thresh, grid)\n",
    "            for t_step in range(task_info['trial_dur'])\n",
    "        ], chunksize = 10)\n",
    "\n",
    "  # Process the results from each worker process (list of lists of accuracies)\n",
    "    decoding_acc = np.mean(np.array(results), axis=1)  # Calculate mean accuracy for each time step\n"
   ]
  }
 ],
 "metadata": {
  "kernelspec": {
   "display_name": "Python 3",
   "language": "python",
   "name": "python3"
  },
  "language_info": {
   "codemirror_mode": {
    "name": "ipython",
    "version": 3
   },
   "file_extension": ".py",
   "mimetype": "text/x-python",
   "name": "python",
   "nbconvert_exporter": "python",
   "pygments_lexer": "ipython3",
   "version": "3.8.8"
  }
 },
 "nbformat": 4,
 "nbformat_minor": 5
}
