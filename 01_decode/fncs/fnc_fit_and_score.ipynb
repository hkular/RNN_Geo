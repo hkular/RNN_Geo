{
 "cells": [
  {
   "cell_type": "code",
   "execution_count": null,
   "id": "dee6108f-477f-4180-ad6a-d1c198d53851",
   "metadata": {},
   "outputs": [],
   "source": [
    "# define fitting model for parallelization\n",
    "def fnc_fit_and_score(t_step, data_slice, tri_ind, hold_out, n_cvs, labs, label, thresh, grid):\n",
    "    \"\"\"\n",
    "    Name: Holly Kular\\\n",
    "    Date: 03-19-2024\\\n",
    "    Email: hkular@ucsd.edu\\\n",
    "    fnc_fit_and_score.py\\\n",
    "    Description: Script for decoding fitting linear SVM and scoring accuracy across CV folds\n",
    "    Fits the model on each CV fold for a given time step\n",
    "\n",
    "    Args:\n",
    "      t_step: The time step index.\n",
    "      data_slice: The data slice for the current time step.\n",
    "      tri_ind: Indices of all trials.\n",
    "      hold_out: Number of trials to hold out for testing in each fold.\n",
    "      n_cvs: Number of CV folds.\n",
    "      labs: Labels for all trials.\n",
    "      label: Decoding based on stim or choice\n",
    "      thresh: Thresholds for binary classification.\n",
    "      grid: scikit-learn GridSearchCV object.\n",
    "\n",
    "    Returns:\n",
    "      A list of accuracies for each CV fold for the given time step.\n",
    "    \"\"\"\n",
    "    acc = []\n",
    "    for i in range(n_cvs):\n",
    "        # loop over CV folds within each t_step\n",
    "        # trials to hold out as test set on this cv fold\n",
    "        tst_ind = tri_ind[ i*hold_out : (i+1)*hold_out ]\n",
    "\n",
    "        # index into the training data on this cv fold\n",
    "        trn_ind = np.setdiff1d( tri_ind, tst_ind )\n",
    "\n",
    "        # get the training data (X) and the training labels (y)\n",
    "        X = data_slice[trn_ind,:]\n",
    "        if label == 'stim':\n",
    "            y = labs[trn_ind]\n",
    "        else:\n",
    "            y = np.select([labs[trn_ind] >= thresh[1], labs[trn_ind] <= thresh[0]], [0,1], default=0)\n",
    "\n",
    "        # fit the model\n",
    "        grid.fit( X,y )\n",
    "\n",
    "        # get the test data (X) and the test labels (y)\n",
    "        X_test = data_slice[tst_ind, :]\n",
    "        if label == 'stim':\n",
    "            y_test = labs[tst_ind]\n",
    "        else:\n",
    "            y_test = np.select([labs[tst_ind] >= thresh[1], labs[tst_ind] <= thresh[0]], [0,1], default=0)\n",
    "\n",
    "        # predict!\n",
    "        score = grid.score( X_test,y_test )\n",
    "        acc.append(score)  # Append accuracy for this CV fold\n",
    "    return acc\n"
   ]
  }
 ],
 "metadata": {
  "kernelspec": {
   "display_name": "Python 3",
   "language": "python",
   "name": "python3"
  },
  "language_info": {
   "codemirror_mode": {
    "name": "ipython",
    "version": 3
   },
   "file_extension": ".py",
   "mimetype": "text/x-python",
   "name": "python",
   "nbconvert_exporter": "python",
   "pygments_lexer": "ipython3",
   "version": "3.8.8"
  }
 },
 "nbformat": 4,
 "nbformat_minor": 5
}
