{
 "cells": [
  {
   "cell_type": "markdown",
   "id": "6bc28a3f-089f-48e1-82e9-3a6de5d1f69d",
   "metadata": {},
   "source": [
    "Name: Holly Kular\\\n",
    "Date: 03-19-2024\\\n",
    "Email: hkular@ucsd.edu\\\n",
    "decode_L1.m\\\n",
    "Description: wrapper script for decoding analysis on layer 1 of probabilistic RNN"
   ]
  },
  {
   "cell_type": "code",
   "execution_count": 15,
   "id": "51c4374b-8268-4b40-b446-e2765b61a9a8",
   "metadata": {},
   "outputs": [],
   "source": [
    "# import these are all needed for fnc\n",
    "import numpy as np\n",
    "import matplotlib.pyplot as plt\n",
    "import sys\n",
    "import os\n",
    "from scipy.optimize import curve_fit\n",
    "from scipy.io import loadmat"
   ]
  },
  {
   "cell_type": "code",
   "execution_count": 16,
   "id": "d677ff57-73b5-49e2-897c-759d71f33b3a",
   "metadata": {},
   "outputs": [],
   "source": [
    "# add decoding functions\n",
    "from fnc_fit_and_score import fnc_fit_and_score\n",
    "from fnc_decode_L1 import fnc_decode_L1\n"
   ]
  },
  {
   "cell_type": "code",
   "execution_count": 33,
   "id": "b974490f-888e-41e9-8cdf-15bf74564495",
   "metadata": {},
   "outputs": [],
   "source": [
    "# MODIFY HERE - inputs\n",
    "\n",
    "# What are we decoding?\n",
    "RNN_params = {}\n",
    "RNN_params['prob_split'] = '70_30'\n",
    "RNN_params['afc'] = 6\n",
    "RNN_params['coh'] = 'lo'\n",
    "RNN_params['feedback'] = False\n",
    "RNN_params['thresh'] = [.3,.7]\n",
    "\n",
    "# Decoding params\n",
    "D_params = {}\n",
    "D_params['time_avg'] = False\n",
    "D_params['t_win'] = [200,-1]\n",
    "D_params['n_cvs'] = 5\n",
    "D_params['num_cgs'] = 30\n",
    "D_params['label'] = 'stim' # 'stim' or 'choice'\n",
    "D_params['units'] = 'inh' # 'all' or 'exc' or 'inh'\n",
    "D_params['pred'] = 'expected' # 'expected' or 'unexpected', trials had stim 0 or 1 dominant\n",
    "\n",
    "# Timing of task\n",
    "task_info = {}\n",
    "task_info['trials'] = 1000\n",
    "task_info['trial_dur'] = 250  # trial duration (timesteps)\n",
    "task_info['stim_on'] = 80\n",
    "task_info['stim_dur'] = 50\n",
    "\n",
    "# Load data\n",
    "if sys.platform.startswith('linux'):\n",
    "    data_dir = f\"/mnt/neurocube/local/serenceslab/holly/RNN_Geo/data/rdk_{RNN_params['prob_split']}_{RNN_params['afc']}afc/feedforward_only/{RNN_params['coh']}_coh\"\n",
    "else:\n",
    "    data_dir = f\"/Volumes/serenceslab/holly/RNN_Geo/data/rdk_{RNN_params['prob_split']}_{RNN_params['afc']}afc/feedforward_only/{RNN_params['coh']}_coh\"\n",
    "\n",
    "# Chose the model\n",
    "mat_files = [f for f in os.listdir(data_dir) if f.endswith('.mat')]# Get all the trained models (should be 40 .mat files)\n",
    "model_path = os.path.join(data_dir, mat_files[0]) \n",
    "model = loadmat(model_path) # model.keys()\n",
    "\n",
    "# Change this if we want a different number of trials and different default stim (0 is the one RNN was trained on)\n",
    "if D_params['pred'] == 'expected':\n",
    "    data_file = f\"{data_dir}/Trials{task_info['trials']}_model{model_path[-7:-4]}_0expected.npz\"\n",
    "elif D_params['pred'] == 'unexpected':\n",
    "    data_file = f\"{data_dir}/Trials{task_info['trials']}_model{model_path[-7:-4]}_1unexpected.npz\"\n"
   ]
  },
  {
   "cell_type": "code",
   "execution_count": 34,
   "id": "316dae33-a0e3-49f0-824a-1c8054c73b73",
   "metadata": {},
   "outputs": [
    {
     "name": "stdout",
     "output_type": "stream",
     "text": [
      "done decoding\n",
      "done saving\n"
     ]
    }
   ],
   "source": [
    "# Do decoding\n",
    "acc = fnc_decode_L1(RNN_params, D_params, data_file, task_info, model)\n",
    "print(f'done decoding')\n",
    "# Save to npz\n",
    "full_file = os.path.join(data_dir, f\"decode_T{task_info['trials']}_model{model_path[-7:-4]}_{D_params['label']}_{D_params['pred']}_{D_params['units']}.npz\")\n",
    "np.savez(full_file, decoding_acc = acc)\n",
    "print(f'done saving')"
   ]
  }
 ],
 "metadata": {
  "kernelspec": {
   "display_name": "Python 3 (ipykernel)",
   "language": "python",
   "name": "python3"
  },
  "language_info": {
   "codemirror_mode": {
    "name": "ipython",
    "version": 3
   },
   "file_extension": ".py",
   "mimetype": "text/x-python",
   "name": "python",
   "nbconvert_exporter": "python",
   "pygments_lexer": "ipython3",
   "version": "3.11.7"
  }
 },
 "nbformat": 4,
 "nbformat_minor": 5
}
