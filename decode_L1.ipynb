{
 "cells": [
  {
   "cell_type": "markdown",
   "id": "6bc28a3f-089f-48e1-82e9-3a6de5d1f69d",
   "metadata": {},
   "source": [
    "Name: Holly Kular\\\n",
    "Date: 03-19-2024\\\n",
    "Email: hkular@ucsd.edu\\\n",
    "decode_L1.m\\\n",
    "Description: wrapper script for decoding analysis on layer 1 of probabilistic RNN"
   ]
  },
  {
   "cell_type": "code",
   "execution_count": null,
   "id": "51c4374b-8268-4b40-b446-e2765b61a9a8",
   "metadata": {},
   "outputs": [],
   "source": [
    "# import these are all needed for fnc\n",
    "import numpy as np\n",
    "import matplotlib.pyplot as plt\n",
    "import sys\n",
    "import os\n",
    "\n",
    "from sklearn.model_selection import cross_val_score\n",
    "from sklearn.model_selection import RepeatedStratifiedKFold\n",
    "from sklearn.svm import SVC  \n",
    "from sklearn.model_selection import GridSearchCV\n",
    "from sklearn.datasets import make_classification\n",
    "from scipy.optimize import curve_fit"
   ]
  },
  {
   "cell_type": "code",
   "execution_count": null,
   "id": "d677ff57-73b5-49e2-897c-759d71f33b3a",
   "metadata": {},
   "outputs": [],
   "source": [
    "# add functions\n",
    "%run fnc_decode_L1.py"
   ]
  },
  {
   "cell_type": "code",
   "execution_count": null,
   "id": "9e98048d-37b9-4ff0-b060-da39eceef856",
   "metadata": {},
   "outputs": [],
   "source": [
    "def update_progress(progress, total):\n",
    "    bar_length = 20  # Adjust this for desired bar length\n",
    "    filled_length = int(round(progress / total * bar_length))\n",
    "    bar = '=' * filled_length + '-' * (bar_length - filled_length)\n",
    "    print(f'Progress: [{bar}] {progress}/{total}', end='\\r')"
   ]
  },
  {
   "cell_type": "code",
   "execution_count": null,
   "id": "b974490f-888e-41e9-8cdf-15bf74564495",
   "metadata": {},
   "outputs": [],
   "source": [
    "# What are we decoding?\n",
    "\n"
   ]
  }
 ],
 "metadata": {
  "kernelspec": {
   "display_name": "Python 3",
   "language": "python",
   "name": "python3"
  },
  "language_info": {
   "codemirror_mode": {
    "name": "ipython",
    "version": 3
   },
   "file_extension": ".py",
   "mimetype": "text/x-python",
   "name": "python",
   "nbconvert_exporter": "python",
   "pygments_lexer": "ipython3",
   "version": "3.8.8"
  }
 },
 "nbformat": 4,
 "nbformat_minor": 5
}
