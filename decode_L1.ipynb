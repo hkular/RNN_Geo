{
 "cells": [
  {
   "cell_type": "markdown",
   "id": "6bc28a3f-089f-48e1-82e9-3a6de5d1f69d",
   "metadata": {},
   "source": [
    "Name: Holly Kular\\\n",
    "Date: 03-19-2024\\\n",
    "Email: hkular@ucsd.edu\\\n",
    "decode_L1.m\\\n",
    "Description: wrapper script for decoding analysis on layer 1 of probabilistic RNN"
   ]
  },
  {
   "cell_type": "code",
   "execution_count": 1,
   "id": "51c4374b-8268-4b40-b446-e2765b61a9a8",
   "metadata": {},
   "outputs": [],
   "source": [
    "# import these are all needed for fnc\n",
    "import numpy as np\n",
    "import matplotlib.pyplot as plt\n",
    "import sys\n",
    "import os\n",
    "\n",
    "from sklearn.model_selection import cross_val_score\n",
    "from sklearn.model_selection import RepeatedStratifiedKFold\n",
    "from sklearn.svm import SVC  \n",
    "from sklearn.model_selection import GridSearchCV\n",
    "from sklearn.datasets import make_classification\n",
    "from scipy.optimize import curve_fit"
   ]
  },
  {
   "cell_type": "code",
   "execution_count": 2,
   "id": "d677ff57-73b5-49e2-897c-759d71f33b3a",
   "metadata": {},
   "outputs": [],
   "source": [
    "# add decoding functions\n",
    "from fnc_fit_and_score import fnc_fit_and_score\n",
    "from fnc_decode_L1 import fnc_decode_L1\n"
   ]
  },
  {
   "cell_type": "code",
   "execution_count": 3,
   "id": "b974490f-888e-41e9-8cdf-15bf74564495",
   "metadata": {},
   "outputs": [],
   "source": [
    "# MODIFY HERE - inputs\n",
    "\n",
    "# What are we decoding?\n",
    "RNN_params = {}\n",
    "RNN_params['prob_split'] = '70_30'\n",
    "RNN_params['afc'] = 2\n",
    "RNN_params['coh'] = 'hi'\n",
    "RNN_params['feedback'] = False\n",
    "RNN_params['thresh'] = [.3,.7]\n",
    "\n",
    "# Decoding params\n",
    "D_params = {}\n",
    "D_params['time_avg'] = False\n",
    "D_params['t_win'] = [200,-1]\n",
    "D_params['n_cvs'] = 5\n",
    "D_params['num_cgs'] = 30\n",
    "D_params['label'] = 'stim' # 'stim' or 'choice'\n",
    "\n",
    "# Load data\n",
    "if sys.platform.startswith('linux'):\n",
    "    data_dir = f\"/mnt/neurocube/local/serenceslab/holly/RNN_Geo/data/rdk_{RNN_params['prob_split']}_{RNN_params['afc']}afc/feedforward_only/{RNN_params['coh']}_coh\"\n",
    "else:\n",
    "    data_dir = f\"/Volumes/serenceslab/holly/RNN_Geo/data/rdk_{RNN_params['prob_split']}_{RNN_params['afc']}afc/feedforward_only/{RNN_params['coh']}_coh\"\n",
    "\n",
    "# Change this if we want a different number of trials and different default stim (0 is the one RNN was trained on)\n",
    "data_file = f\"{data_dir}/Trials200_0expected.npz\"\n",
    "\n",
    "# Timing of task\n",
    "task_info = {}\n",
    "task_info['trials'] = 200\n",
    "task_info['trial_dur'] = 250  # trial duration (timesteps)\n",
    "task_info['stim_on'] = 80\n",
    "task_info['stim_dur'] = 50\n",
    "\n",
    "save_plt = False"
   ]
  },
  {
   "cell_type": "code",
   "execution_count": 6,
   "id": "316dae33-a0e3-49f0-824a-1c8054c73b73",
   "metadata": {},
   "outputs": [],
   "source": [
    "# Do decoding\n",
    "acc = fnc_decode_L1(RNN_params, D_params, data_file, task_info)"
   ]
  },
  {
   "cell_type": "code",
   "execution_count": 5,
   "id": "375bf080-bfc0-4191-823c-c581f5e4452d",
   "metadata": {},
   "outputs": [
    {
     "data": {
      "text/plain": [
       "nan"
      ]
     },
     "execution_count": 5,
     "metadata": {},
     "output_type": "execute_result"
    }
   ],
   "source": [
    "acc"
   ]
  },
  {
   "cell_type": "code",
   "execution_count": null,
   "id": "5856499d-4ba9-4056-ac3f-6363d2740189",
   "metadata": {},
   "outputs": [],
   "source": [
    "# Make plots based on outputs\n",
    "\n",
    "# Plot decoding accuracy over time\n",
    "plt.figure()\n",
    "plt.plot(range(task_info['trial_dur']), decoding_acc)\n",
    "plt.xlabel('Time Step')\n",
    "plt.ylabel('Decoding Accuracy')\n",
    "plt.title('Decoding Accuracy Over Time')\n",
    "plt.axvspan(task_info['stim_on'], task_info['stim_on']+task_info['stim_dur'], color = 'gray', alpha = 0.3)\n",
    "if save_plt:\n",
    "    plt.savefig(f\"{data_dir}/decode_stim_exp.png\")\n",
    "plt.show()  \n",
    "\n",
    "\n",
    "# fit logistic function\n",
    "def logistic_func(x, a, b, c, d):\n",
    "    return a / (1 + np.exp(-c * (x - d))) + b\n",
    "\n",
    "popt, _ = curve_fit(logistic_func, range(0, task_info['trial_dur']), decoding_acc[0:])\n",
    "\n",
    "# 'popt' will contain the fitted parameters (a, b, c) of the log function\n",
    "\n",
    "# Optional: Estimate the y-value of the asymptote (assuming based on parameter b)\n",
    "asymptote_y = popt[1]\n",
    "print(\"Estimated y-value of the asymptote:\", asymptote_y)\n",
    "\n",
    "# Optional: Visualization\n",
    "plt.plot(range(0, task_info['trial_dur']), decoding_acc[0:], label='Data')\n",
    "plt.plot(range(0, task_info['trial_dur']), logistic_func(range(0, task_info['trial_dur']), *popt), label=f'y asymptote of logistic {round(asymptote_y, 3)}')\n",
    "plt.axvspan(task_info['stim_on'], task_info['stim_on']+task_info['stim_dur'], color = 'gray', alpha = 0.3)\n",
    "plt.xlabel('Time Step')\n",
    "plt.ylabel('Decoding Accuracy')\n",
    "plt.title('Decoding Accuracy Over Time (Logistic Fit)')\n",
    "plt.legend()\n",
    "if save_plt:\n",
    "    plt.savefig(f\"{data_dir}/decode_stim_expfit.png\")\n",
    "plt.show()\n"
   ]
  }
 ],
 "metadata": {
  "kernelspec": {
   "display_name": "Python 3",
   "language": "python",
   "name": "python3"
  },
  "language_info": {
   "codemirror_mode": {
    "name": "ipython",
    "version": 3
   },
   "file_extension": ".py",
   "mimetype": "text/x-python",
   "name": "python",
   "nbconvert_exporter": "python",
   "pygments_lexer": "ipython3",
   "version": "3.8.8"
  }
 },
 "nbformat": 4,
 "nbformat_minor": 5
}
