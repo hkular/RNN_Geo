{
 "cells": [
  {
   "cell_type": "markdown",
   "id": "6bc28a3f-089f-48e1-82e9-3a6de5d1f69d",
   "metadata": {},
   "source": [
    "Name: Holly Kular\\\n",
    "Date: 03-19-2024\\\n",
    "Email: hkular@ucsd.edu\\\n",
    "decode_L1.m\\\n",
    "Description: wrapper script for decoding analysis on layer 1 of probabilistic RNN"
   ]
  },
  {
   "cell_type": "code",
   "execution_count": 1,
   "id": "51c4374b-8268-4b40-b446-e2765b61a9a8",
   "metadata": {},
   "outputs": [],
   "source": [
    "# import these are all needed for fnc\n",
    "import numpy as np\n",
    "import matplotlib.pyplot as plt\n",
    "import sys\n",
    "import os\n",
    "from scipy.optimize import curve_fit"
   ]
  },
  {
   "cell_type": "code",
   "execution_count": 2,
   "id": "d677ff57-73b5-49e2-897c-759d71f33b3a",
   "metadata": {},
   "outputs": [],
   "source": [
    "# add decoding functions\n",
    "from fnc_fit_and_score import fnc_fit_and_score\n",
    "from fnc_decode_L1 import fnc_decode_L1\n"
   ]
  },
  {
   "cell_type": "code",
   "execution_count": 14,
   "id": "b974490f-888e-41e9-8cdf-15bf74564495",
   "metadata": {},
   "outputs": [],
   "source": [
    "# MODIFY HERE - inputs\n",
    "\n",
    "# What are we decoding?\n",
    "RNN_params = {}\n",
    "RNN_params['prob_split'] = '70_30'\n",
    "RNN_params['afc'] = 6\n",
    "RNN_params['coh'] = 'hi'\n",
    "RNN_params['feedback'] = False\n",
    "RNN_params['thresh'] = [.3,.7]\n",
    "\n",
    "# Decoding params\n",
    "D_params = {}\n",
    "D_params['time_avg'] = False\n",
    "D_params['t_win'] = [200,-1]\n",
    "D_params['n_cvs'] = 5\n",
    "D_params['num_cgs'] = 30\n",
    "D_params['label'] = 'stim' # 'stim' or 'choice'\n",
    "\n",
    "# Load data\n",
    "if sys.platform.startswith('linux'):\n",
    "    data_dir = f\"/mnt/neurocube/local/serenceslab/holly/RNN_Geo/data/rdk_{RNN_params['prob_split']}_{RNN_params['afc']}afc/feedforward_only/{RNN_params['coh']}_coh\"\n",
    "else:\n",
    "    data_dir = f\"/Volumes/serenceslab/holly/RNN_Geo/data/rdk_{RNN_params['prob_split']}_{RNN_params['afc']}afc/feedforward_only/{RNN_params['coh']}_coh\"\n",
    "\n",
    "# Change this if we want a different number of trials and different default stim (0 is the one RNN was trained on)\n",
    "data_file = f\"{data_dir}/Trials200_0expected.npz\"\n",
    "\n",
    "# Timing of task\n",
    "task_info = {}\n",
    "task_info['trials'] = 200\n",
    "task_info['trial_dur'] = 250  # trial duration (timesteps)\n",
    "task_info['stim_on'] = 80\n",
    "task_info['stim_dur'] = 50"
   ]
  },
  {
   "cell_type": "code",
   "execution_count": 15,
   "id": "316dae33-a0e3-49f0-824a-1c8054c73b73",
   "metadata": {},
   "outputs": [
    {
     "name": "stdout",
     "output_type": "stream",
     "text": [
      "done decoding\n"
     ]
    }
   ],
   "source": [
    "# Do decoding\n",
    "acc = fnc_decode_L1(RNN_params, D_params, data_file, task_info)\n",
    "print(f'done decoding')"
   ]
  },
  {
   "cell_type": "code",
   "execution_count": 12,
   "id": "b4cfb003-4906-4e7e-943f-1b88c6e65250",
   "metadata": {},
   "outputs": [],
   "source": [
    "# Change this\n",
    "save_plt = True"
   ]
  },
  {
   "cell_type": "code",
   "execution_count": 13,
   "id": "5856499d-4ba9-4056-ac3f-6363d2740189",
   "metadata": {},
   "outputs": [
    {
     "data": {
      "image/png": "[encoded data removed]",
      "text/plain": [
       "<Figure size 432x288 with 1 Axes>"
      ]
     },
     "metadata": {
      "needs_background": "light"
     },
     "output_type": "display_data"
    },
    {
     "ename": "RuntimeError",
     "evalue": "Optimal parameters not found: Number of calls to function has reached maxfev = 1000.",
     "output_type": "error",
     "traceback": [
      "\u001b[0;31m---------------------------------------------------------------------------\u001b[0m",
      "\u001b[0;31mRuntimeError\u001b[0m                              Traceback (most recent call last)",
      "\u001b[0;32m<ipython-input-13-6ba811a32b7c>\u001b[0m in \u001b[0;36m<module>\u001b[0;34m\u001b[0m\n\u001b[1;32m     17\u001b[0m     \u001b[0;32mreturn\u001b[0m \u001b[0ma\u001b[0m \u001b[0;34m/\u001b[0m \u001b[0;34m(\u001b[0m\u001b[0;36m1\u001b[0m \u001b[0;34m+\u001b[0m \u001b[0mnp\u001b[0m\u001b[0;34m.\u001b[0m\u001b[0mexp\u001b[0m\u001b[0;34m(\u001b[0m\u001b[0;34m-\u001b[0m\u001b[0mc\u001b[0m \u001b[0;34m*\u001b[0m \u001b[0;34m(\u001b[0m\u001b[0mx\u001b[0m \u001b[0;34m-\u001b[0m \u001b[0md\u001b[0m\u001b[0;34m)\u001b[0m\u001b[0;34m)\u001b[0m\u001b[0;34m)\u001b[0m \u001b[0;34m+\u001b[0m \u001b[0mb\u001b[0m\u001b[0;34m\u001b[0m\u001b[0;34m\u001b[0m\u001b[0m\n\u001b[1;32m     18\u001b[0m \u001b[0;34m\u001b[0m\u001b[0m\n\u001b[0;32m---> 19\u001b[0;31m \u001b[0mpopt\u001b[0m\u001b[0;34m,\u001b[0m \u001b[0m_\u001b[0m \u001b[0;34m=\u001b[0m \u001b[0mcurve_fit\u001b[0m\u001b[0;34m(\u001b[0m\u001b[0mlogistic_func\u001b[0m\u001b[0;34m,\u001b[0m \u001b[0mrange\u001b[0m\u001b[0;34m(\u001b[0m\u001b[0;36m0\u001b[0m\u001b[0;34m,\u001b[0m \u001b[0mtask_info\u001b[0m\u001b[0;34m[\u001b[0m\u001b[0;34m'trial_dur'\u001b[0m\u001b[0;34m]\u001b[0m\u001b[0;34m)\u001b[0m\u001b[0;34m,\u001b[0m \u001b[0macc\u001b[0m\u001b[0;34m[\u001b[0m\u001b[0;36m0\u001b[0m\u001b[0;34m:\u001b[0m\u001b[0;34m]\u001b[0m\u001b[0;34m)\u001b[0m\u001b[0;34m\u001b[0m\u001b[0;34m\u001b[0m\u001b[0m\n\u001b[0m\u001b[1;32m     20\u001b[0m \u001b[0;34m\u001b[0m\u001b[0m\n\u001b[1;32m     21\u001b[0m \u001b[0;31m# 'popt' will contain the fitted parameters (a, b, c) of the log function\u001b[0m\u001b[0;34m\u001b[0m\u001b[0;34m\u001b[0m\u001b[0;34m\u001b[0m\u001b[0m\n",
      "\u001b[0;32m~/opt/anaconda3/lib/python3.8/site-packages/scipy/optimize/_minpack_py.py\u001b[0m in \u001b[0;36mcurve_fit\u001b[0;34m(f, xdata, ydata, p0, sigma, absolute_sigma, check_finite, bounds, method, jac, full_output, **kwargs)\u001b[0m\n\u001b[1;32m    862\u001b[0m         \u001b[0mcost\u001b[0m \u001b[0;34m=\u001b[0m \u001b[0mnp\u001b[0m\u001b[0;34m.\u001b[0m\u001b[0msum\u001b[0m\u001b[0;34m(\u001b[0m\u001b[0minfodict\u001b[0m\u001b[0;34m[\u001b[0m\u001b[0;34m'fvec'\u001b[0m\u001b[0;34m]\u001b[0m \u001b[0;34m**\u001b[0m \u001b[0;36m2\u001b[0m\u001b[0;34m)\u001b[0m\u001b[0;34m\u001b[0m\u001b[0;34m\u001b[0m\u001b[0m\n\u001b[1;32m    863\u001b[0m         \u001b[0;32mif\u001b[0m \u001b[0mier\u001b[0m \u001b[0;32mnot\u001b[0m \u001b[0;32min\u001b[0m \u001b[0;34m[\u001b[0m\u001b[0;36m1\u001b[0m\u001b[0;34m,\u001b[0m \u001b[0;36m2\u001b[0m\u001b[0;34m,\u001b[0m \u001b[0;36m3\u001b[0m\u001b[0;34m,\u001b[0m \u001b[0;36m4\u001b[0m\u001b[0;34m]\u001b[0m\u001b[0;34m:\u001b[0m\u001b[0;34m\u001b[0m\u001b[0;34m\u001b[0m\u001b[0m\n\u001b[0;32m--> 864\u001b[0;31m             \u001b[0;32mraise\u001b[0m \u001b[0mRuntimeError\u001b[0m\u001b[0;34m(\u001b[0m\u001b[0;34m\"Optimal parameters not found: \"\u001b[0m \u001b[0;34m+\u001b[0m \u001b[0merrmsg\u001b[0m\u001b[0;34m)\u001b[0m\u001b[0;34m\u001b[0m\u001b[0;34m\u001b[0m\u001b[0m\n\u001b[0m\u001b[1;32m    865\u001b[0m     \u001b[0;32melse\u001b[0m\u001b[0;34m:\u001b[0m\u001b[0;34m\u001b[0m\u001b[0;34m\u001b[0m\u001b[0m\n\u001b[1;32m    866\u001b[0m         \u001b[0;31m# Rename maxfev (leastsq) to max_nfev (least_squares), if specified.\u001b[0m\u001b[0;34m\u001b[0m\u001b[0;34m\u001b[0m\u001b[0;34m\u001b[0m\u001b[0m\n",
      "\u001b[0;31mRuntimeError\u001b[0m: Optimal parameters not found: Number of calls to function has reached maxfev = 1000."
     ]
    }
   ],
   "source": [
    "# Make plots based on outputs\n",
    "\n",
    "# Plot decoding accuracy over time\n",
    "plt.figure()\n",
    "plt.plot(range(task_info['trial_dur']), acc)\n",
    "plt.xlabel('Time Step')\n",
    "plt.ylabel('Decoding Accuracy')\n",
    "plt.title('Decoding Accuracy Over Time')\n",
    "plt.axvspan(task_info['stim_on'], task_info['stim_on']+task_info['stim_dur'], color = 'gray', alpha = 0.3)\n",
    "if save_plt:\n",
    "    plt.savefig(f\"{data_dir}/decode_stim_exp.png\")\n",
    "plt.show()  \n",
    "\n",
    "\n",
    "# fit logistic function\n",
    "def logistic_func(x, a, b, c, d):\n",
    "    return a / (1 + np.exp(-c * (x - d))) + b\n",
    "\n",
    "popt, _ = curve_fit(logistic_func, range(0, task_info['trial_dur']), acc[0:])\n",
    "\n",
    "# 'popt' will contain the fitted parameters (a, b, c) of the log function\n",
    "\n",
    "# Optional: Estimate the y-value of the asymptote (assuming based on parameter b)\n",
    "asymptote_y = popt[1]\n",
    "print(\"Estimated y-value of the asymptote:\", asymptote_y)\n",
    "\n",
    "# Optional: Visualization\n",
    "plt.plot(range(0, task_info['trial_dur']), acc[0:], label='Data')\n",
    "plt.plot(range(0, task_info['trial_dur']), logistic_func(range(0, task_info['trial_dur']), *popt), label=f'y asymptote of logistic {round(asymptote_y, 3)}')\n",
    "plt.axvspan(task_info['stim_on'], task_info['stim_on']+task_info['stim_dur'], color = 'gray', alpha = 0.3)\n",
    "plt.xlabel('Time Step')\n",
    "plt.ylabel('Decoding Accuracy')\n",
    "plt.title('Decoding Accuracy Over Time (Logistic Fit)')\n",
    "plt.legend()\n",
    "if save_plt:\n",
    "    plt.savefig(f\"{data_dir}/decode_stim_expfit.png\")\n",
    "plt.show()\n"
   ]
  },
  {
   "cell_type": "code",
   "execution_count": null,
   "id": "b1ed1653-5319-4f47-a3fd-571e60da0773",
   "metadata": {},
   "outputs": [],
   "source": []
  }
 ],
 "metadata": {
  "kernelspec": {
   "display_name": "Python 3",
   "language": "python",
   "name": "python3"
  },
  "language_info": {
   "codemirror_mode": {
    "name": "ipython",
    "version": 3
   },
   "file_extension": ".py",
   "mimetype": "text/x-python",
   "name": "python",
   "nbconvert_exporter": "python",
   "pygments_lexer": "ipython3",
   "version": "3.8.8"
  }
 },
 "nbformat": 4,
 "nbformat_minor": 5
}
