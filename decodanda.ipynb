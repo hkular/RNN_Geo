{
 "cells": [
  {
   "cell_type": "code",
   "execution_count": null,
   "id": "aa757e42",
   "metadata": {},
   "outputs": [],
   "source": []
  },
  {
   "cell_type": "code",
   "execution_count": 4,
   "id": "938536c9",
   "metadata": {},
   "outputs": [],
   "source": [
    "from decodanda import Decodanda, generate_synthetic_data"
   ]
  },
  {
   "cell_type": "code",
   "execution_count": 6,
   "id": "5d0b6789",
   "metadata": {},
   "outputs": [],
   "source": [
    "data = generate_synthetic_data(keyA='stimulus', keyB = 'action')\n"
   ]
  }
 ],
 "metadata": {
  "kernelspec": {
   "display_name": "Python 3 (ipykernel)",
   "language": "python",
   "name": "python3"
  },
  "language_info": {
   "codemirror_mode": {
    "name": "ipython",
    "version": 3
   },
   "file_extension": ".py",
   "mimetype": "text/x-python",
   "name": "python",
   "nbconvert_exporter": "python",
   "pygments_lexer": "ipython3",
   "version": "3.11.5"
  }
 },
 "nbformat": 4,
 "nbformat_minor": 5
}
