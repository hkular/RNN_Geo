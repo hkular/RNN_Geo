{
 "cells": [
  {
   "cell_type": "markdown",
   "id": "b8ff1ea3",
   "metadata": {},
   "source": [
    "Name: Holly Kular\\\n",
    "Date: 04-08-2025\\\n",
    "Email: hkular@ucsd.edu\\\n",
    "Description: calculate euclidean distance in synaptic currents between trial types to see difference in representation of different stimuli in the network\n",
    "\n",
    "for now\n",
    "- will focus on 2afc\n",
    "- will only examine 1 layer at a time, do cross-layer comparison later\n",
    "- will collapse time into bins defined below"
   ]
  },
  {
   "cell_type": "code",
   "execution_count": null,
   "id": "f02442ea",
   "metadata": {},
   "outputs": [],
   "source": [
    "# imports \n",
    "import numpy as np\n",
    "import matplotlib as plt"
   ]
  },
  {
   "cell_type": "code",
   "execution_count": null,
   "id": "d00c2578",
   "metadata": {},
   "outputs": [],
   "source": [
    "def compute_euclidean_distance(data_stim0, data_stim1):\n",
    "    \"\"\"\n",
    "    Computes the Euclidean distance between the mean synaptic current patterns\n",
    "    of two stimuli.\n",
    "\n",
    "    Args:\n",
    "        data_stim1 (numpy.ndarray): Trial x Time x Unit matrix for stimulus 1.\n",
    "        data_stim2 (numpy.ndarray): Trial x Time x Unit matrix for stimulus 2.\n",
    "\n",
    "    Returns:\n",
    "        numpy.ndarray: Array of Euclidean distances over time.\n",
    "    \"\"\"\n",
    "\n",
    "    # 1. Average across trials for each stimulus\n",
    "    mean_stim1 = np.mean(data_stim0, axis=0)  # Time x Unit\n",
    "    mean_stim2 = np.mean(data_stim1, axis=0)  # Time x Unit\n",
    "\n",
    "    # 2. Calculate Euclidean distance for each time point\n",
    "    distances = np.linalg.norm(mean_stim0 - mean_stim1, axis=1)  # Time\n",
    "\n",
    "    return distances\n"
   ]
  },
  {
   "cell_type": "code",
   "execution_count": null,
   "id": "ea809683",
   "metadata": {},
   "outputs": [],
   "source": [
    "# calculate distances\n",
    "distances = compute_euclidean_distance(stim0, stim1)\n",
    "\n",
    "# Plot the distances over time\n",
    "plt.figure()\n",
    "plt.plot(distances)\n",
    "plt.xlabel(\"Time\")\n",
    "plt.ylabel(\"Euclidean Distance\")\n",
    "plt.title(\"Euclidean Distance Between Stimuli\")\n",
    "plt.show()"
   ]
  }
 ],
 "metadata": {
  "kernelspec": {
   "display_name": "Python 3",
   "language": "python",
   "name": "python3"
  },
  "language_info": {
   "codemirror_mode": {
    "name": "ipython",
    "version": 3
   },
   "file_extension": ".py",
   "mimetype": "text/x-python",
   "name": "python",
   "nbconvert_exporter": "python",
   "pygments_lexer": "ipython3",
   "version": "3.8.8"
  }
 },
 "nbformat": 4,
 "nbformat_minor": 5
}
